{
  "nbformat": 4,
  "nbformat_minor": 0,
  "metadata": {
    "colab": {
      "provenance": []
    },
    "kernelspec": {
      "name": "python3",
      "display_name": "Python 3"
    },
    "language_info": {
      "name": "python"
    }
  },
  "cells": [
    {
      "cell_type": "markdown",
      "source": [
        "# Initiation personelle à Géopandas\n",
        "Petite aide sur des données perso à Géopandas"
      ],
      "metadata": {
        "id": "t2lTEYIePjOU"
      }
    },
    {
      "cell_type": "markdown",
      "source": [
        "## Configuration de la machine virtuelle\n",
        "Import du package Geopandas"
      ],
      "metadata": {
        "id": "YpGPTrnaP1Wj"
      }
    },
    {
      "cell_type": "code",
      "execution_count": null,
      "metadata": {
        "id": "ljvQXu-ZPFLY"
      },
      "outputs": [],
      "source": [
        "#Initialisation de l'environnement avec geopandas\n",
        "!apt update\n",
        "!apt install gdal-bin python-gdal python3-gdal \n",
        "# Install rtree - Geopandas requirment\n",
        "!apt install python3-rtree \n",
        "# Install Geopandas\n",
        "!pip install geopandas #!pip permet de garder à jour le package même sur les machines"
      ]
    },
    {
      "cell_type": "code",
      "source": [
        "#Importation des librairies nécessaires\n",
        "import pandas as pd #Gestion de données (tidyverse)\n",
        "import geopandas as gpd #Gestion données sptiales (carto)\n",
        "import os\n",
        "import numpy as np\n",
        "import shapely #(Les 3 autres premettent de faire le lien rentre tous)"
      ],
      "metadata": {
        "id": "koONfEDDQT4O"
      },
      "execution_count": null,
      "outputs": []
    },
    {
      "cell_type": "markdown",
      "source": [
        "## Import du jeu de données"
      ],
      "metadata": {
        "id": "jUCfLkJAQxiz"
      }
    },
    {
      "cell_type": "code",
      "source": [
        "df = gpd.read_file('url') #Si les données sont sur l'ordinateur\n",
        "!wget -O df.shp url de le telechargement #Si on va directement chercher les données sur internet"
      ],
      "metadata": {
        "id": "O1D0GdzqQ2-Z"
      },
      "execution_count": null,
      "outputs": []
    },
    {
      "cell_type": "markdown",
      "source": [
        "### Affichage des données \n",
        "Table attributaire + Cartographique s'il s'agit d'un shape"
      ],
      "metadata": {
        "id": "ChY-Z8EuRjbg"
      }
    },
    {
      "cell_type": "code",
      "source": [
        "df #Permet d'afficher la table attributaire des données\n",
        "df.plot() #Permet d'afficher les données au format cartographique"
      ],
      "metadata": {
        "id": "4fx5NtgeRjAl"
      },
      "execution_count": null,
      "outputs": []
    },
    {
      "cell_type": "code",
      "source": [
        "#Catégoriser en fonction d'une variable\n",
        "df.plot(column='Champs de catégorisation', figsize=(20,15))"
      ],
      "metadata": {
        "id": "5s5ltgiLSEFE"
      },
      "execution_count": null,
      "outputs": []
    },
    {
      "cell_type": "code",
      "source": [
        "#Affichage d'une carte avec fond de plan OSM\n",
        "from geopandas import explore\n",
        "df.explore(column='Champs à explorer')"
      ],
      "metadata": {
        "id": "fhp5Hj9ySdLX"
      },
      "execution_count": null,
      "outputs": []
    },
    {
      "cell_type": "code",
      "source": [
        "#Carte thématique dans Python \n",
        "df.plot(column='Champs thématiques', figsize =(20,15), scheme=\"quantiles\", cmap='mako', edgecolor='white', legend=True, k=4, legend_kwds={'loc': 'upper left'})\n",
        "#Column : champs pour la discrétisation\n",
        "#Figsize : taille de la figure\n",
        "#Scheme : méthode de discrétisation\n",
        "#Cmap : nuancier de couleur utilisé\n",
        "#Edgecolor : couleur des contours\n",
        "#Legend : Si on veut une légende\n",
        "#k : nombre de classes\n",
        "#Legend_kwds : position de la légende sur le graphique"
      ],
      "metadata": {
        "id": "6oaN1wm6S3uv"
      },
      "execution_count": null,
      "outputs": []
    }
  ]
}