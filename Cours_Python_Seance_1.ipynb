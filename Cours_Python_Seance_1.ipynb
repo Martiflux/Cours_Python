{
  "nbformat": 4,
  "nbformat_minor": 0,
  "metadata": {
    "colab": {
      "provenance": [],
      "collapsed_sections": [
        "cePqKXkwAkmW"
      ]
    },
    "kernelspec": {
      "name": "python3",
      "display_name": "Python 3"
    },
    "language_info": {
      "name": "python"
    }
  },
  "cells": [
    {
      "cell_type": "markdown",
      "source": [
        "# Séance 1 / Introduction avec Pandas\n",
        "Ceci est mon markdown de mes débuts sur Pandas"
      ],
      "metadata": {
        "id": "TFJG6cFCqAdo"
      }
    },
    {
      "cell_type": "markdown",
      "source": [
        "### Configuration de l'environnement de travail"
      ],
      "metadata": {
        "id": "J4pqjjbOqceQ"
      }
    },
    {
      "cell_type": "code",
      "source": [
        "#Initialisation de l'environnement avec geopandas\n",
        "!apt update\n",
        "!apt install gdal-bin python-gdal python3-gdal \n",
        "# Install rtree - Geopandas requirment\n",
        "!apt install python3-rtree \n",
        "# Install Geopandas\n",
        "!pip install geopandas #!pip permet de garder à jour le package même sur les machines"
      ],
      "metadata": {
        "id": "MnviVDzQrRDX"
      },
      "execution_count": null,
      "outputs": []
    },
    {
      "cell_type": "code",
      "source": [
        "#Importation des librairies nécessaires\n",
        "import pandas as pd #Gestion de données (tidyverse)\n",
        "import matplotlib.pyplot as plt #Visualisation de données (dataviz et carto)\n",
        "import geopandas as gpd #Gestion données sptiales (carto)\n",
        "import os\n",
        "import numpy as np\n",
        "import shapely #(Les 3 autres premettent de faire le lien rentre tous)"
      ],
      "metadata": {
        "id": "eSE-77JWruSv"
      },
      "execution_count": 2,
      "outputs": []
    },
    {
      "cell_type": "markdown",
      "source": [
        "## Importer un jeu de données"
      ],
      "metadata": {
        "id": "rqFhC1H8sn4v"
      }
    },
    {
      "cell_type": "code",
      "source": [
        "#Téléchargement des datas depuis le site opendata de Paris\n",
        "!wget -O Espacesverts.csv https://opendata.paris.fr/explore/dataset/espaces_verts/download/?format=csv&timezone=Europe/Berlin&lang=fr&use_labels_for_header=true&csv_separator=%3B\n",
        "#wget permet de télécharger les datas.\n",
        "#Espacesverts.csv est le nom du fichier que l'on donne aux données que l'on \n",
        "#télécharge. URL est celle d'un opendata (clickdroit sur l'emplacement de \n",
        "#téléchargement pour obtenir le lien) mais on peut aussi utiliser les APIs. "
      ],
      "metadata": {
        "colab": {
          "base_uri": "https://localhost:8080/"
        },
        "id": "-8J55TgAstZH",
        "outputId": "f72759ee-e3b1-45ea-aad5-4b467ebe7b10"
      },
      "execution_count": 3,
      "outputs": [
        {
          "output_type": "stream",
          "name": "stdout",
          "text": [
            "--2023-03-12 10:21:19--  https://opendata.paris.fr/explore/dataset/espaces_verts/download/?format=csv\n",
            "Resolving opendata.paris.fr (opendata.paris.fr)... 34.249.199.226, 34.248.20.69\n",
            "Connecting to opendata.paris.fr (opendata.paris.fr)|34.249.199.226|:443... connected.\n",
            "HTTP request sent, awaiting response... 200 OK\n",
            "Length: unspecified [application/csv]\n",
            "Saving to: ‘Espacesverts.csv’\n",
            "\n",
            "Espacesverts.csv        [       <=>          ]  10.05M  5.87MB/s    in 1.7s    \n",
            "\n",
            "2023-03-12 10:21:22 (5.87 MB/s) - ‘Espacesverts.csv’ saved [10541056]\n",
            "\n"
          ]
        }
      ]
    },
    {
      "cell_type": "markdown",
      "source": [
        "## Exploration du jeux de données sur les espaces verts\n",
        "\n",
        "[Téléchargement de la cheatsheet Pandas](https://studylib.net/doc/25268801/pandas-cheat-sheet)"
      ],
      "metadata": {
        "id": "pedGVCfIvD4i"
      }
    },
    {
      "cell_type": "code",
      "source": [
        "#Importer CSV to dataframe\n",
        "\n",
        "Espacesverts = pd.read_csv(\"Espacesverts.csv\", sep=';')\n",
        "#Espacesverts = nom du dataframe comme dans R\n",
        "\n",
        "Espacesverts.head()\n",
        "#.head = view dans R (ici, un extrait)"
      ],
      "metadata": {
        "colab": {
          "base_uri": "https://localhost:8080/",
          "height": 543
        },
        "id": "rFAfBugIvL3h",
        "outputId": "69400f52-0e33-41a9-e011-731302b406dc"
      },
      "execution_count": null,
      "outputs": [
        {
          "output_type": "execute_result",
          "data": {
            "text/plain": [
              "   nsq_espace_vert                                       nom_ev  \\\n",
              "0            10263  DECORATION DU BOULEVARD SAINT-MARCEL (5EME)   \n",
              "1              117                         SQUARE EUGENE VARLIN   \n",
              "2            10282              DECORATION DE L'AVENUE LOWENDAL   \n",
              "3            10003                CIMETIERE PARISIEN DE BAGNEUX   \n",
              "4            11513         JARDIN PARTAGE LES JARDINS PASSAGERS   \n",
              "\n",
              "                             type_ev       categorie  adresse_numero  \\\n",
              "0   Décorations sur la voie publique      Decoration             2.0   \n",
              "1                Promenades ouvertes          Square           151.0   \n",
              "2   Décorations sur la voie publique      Decoration             1.0   \n",
              "3                         Cimetières       Cimetière            45.0   \n",
              "4  Ephémères, partagés, pédagogiques  Jardin partage             5.0   \n",
              "\n",
              "  adresse_complement adresse_typevoie adresse_libellevoie  adresse_codepostal  \\\n",
              "0                NaN        BOULEVARD        SAINT-MARCEL               75005   \n",
              "1                NaN          QUAI DE            JEMMAPES               75010   \n",
              "2                TER        AVENUE DE            LOWENDAL               75007   \n",
              "3                NaN           AVENUE         MARX DORMOY               92220   \n",
              "4                NaN      PLACE DE LA  FONTAINE AUX LIONS               75019   \n",
              "\n",
              "   poly_area  ...  ouvert_ferme  id_division id_atelier_horticole  ida3d_enb  \\\n",
              "0     1259.0  ...           NaN          113                 18.0    JDE7191   \n",
              "1      910.0  ...           Oui          104                 10.0     120389   \n",
              "2      337.0  ...           NaN          101                  6.0    JDE7211   \n",
              "3   629154.0  ...           Non           12                153.0      72585   \n",
              "4     2107.0  ...           Non          119                 41.0          0   \n",
              "\n",
              "   site_villes  id_eqpt competence  \\\n",
              "0           SV     7191         CA   \n",
              "1         3920     3582         CA   \n",
              "2           SV     7211         CA   \n",
              "3       A92007     5083         CP   \n",
              "4          294     6689         CP   \n",
              "\n",
              "                                                geom  \\\n",
              "0  {\"coordinates\": [[[[2.355490546882123, 48.8380...   \n",
              "1  {\"coordinates\": [[[2.3662253295384845, 48.8784...   \n",
              "2  {\"coordinates\": [[[[2.3092731713525896, 48.853...   \n",
              "3  {\"coordinates\": [[[2.3073749120727873, 48.8100...   \n",
              "4  {\"coordinates\": [[[2.388700480782764, 48.89095...   \n",
              "\n",
              "                                            url_plan geom_x_y  \n",
              "0  http://p70-planet.apps.paris.mdp/Advitium/Appe...      NaN  \n",
              "1  http://p70-planet.apps.paris.mdp/Advitium/Appe...      NaN  \n",
              "2  http://p70-planet.apps.paris.mdp/Advitium/Appe...      NaN  \n",
              "3  http://p70-planet.apps.paris.mdp/Advitium/Appe...      NaN  \n",
              "4  http://p70-planet.apps.paris.mdp/Advitium/Appe...      NaN  \n",
              "\n",
              "[5 rows x 29 columns]"
            ],
            "text/html": [
              "\n",
              "  <div id=\"df-01580948-f7db-431d-bf83-4ed77008f202\">\n",
              "    <div class=\"colab-df-container\">\n",
              "      <div>\n",
              "<style scoped>\n",
              "    .dataframe tbody tr th:only-of-type {\n",
              "        vertical-align: middle;\n",
              "    }\n",
              "\n",
              "    .dataframe tbody tr th {\n",
              "        vertical-align: top;\n",
              "    }\n",
              "\n",
              "    .dataframe thead th {\n",
              "        text-align: right;\n",
              "    }\n",
              "</style>\n",
              "<table border=\"1\" class=\"dataframe\">\n",
              "  <thead>\n",
              "    <tr style=\"text-align: right;\">\n",
              "      <th></th>\n",
              "      <th>nsq_espace_vert</th>\n",
              "      <th>nom_ev</th>\n",
              "      <th>type_ev</th>\n",
              "      <th>categorie</th>\n",
              "      <th>adresse_numero</th>\n",
              "      <th>adresse_complement</th>\n",
              "      <th>adresse_typevoie</th>\n",
              "      <th>adresse_libellevoie</th>\n",
              "      <th>adresse_codepostal</th>\n",
              "      <th>poly_area</th>\n",
              "      <th>...</th>\n",
              "      <th>ouvert_ferme</th>\n",
              "      <th>id_division</th>\n",
              "      <th>id_atelier_horticole</th>\n",
              "      <th>ida3d_enb</th>\n",
              "      <th>site_villes</th>\n",
              "      <th>id_eqpt</th>\n",
              "      <th>competence</th>\n",
              "      <th>geom</th>\n",
              "      <th>url_plan</th>\n",
              "      <th>geom_x_y</th>\n",
              "    </tr>\n",
              "  </thead>\n",
              "  <tbody>\n",
              "    <tr>\n",
              "      <th>0</th>\n",
              "      <td>10263</td>\n",
              "      <td>DECORATION DU BOULEVARD SAINT-MARCEL (5EME)</td>\n",
              "      <td>Décorations sur la voie publique</td>\n",
              "      <td>Decoration</td>\n",
              "      <td>2.0</td>\n",
              "      <td>NaN</td>\n",
              "      <td>BOULEVARD</td>\n",
              "      <td>SAINT-MARCEL</td>\n",
              "      <td>75005</td>\n",
              "      <td>1259.0</td>\n",
              "      <td>...</td>\n",
              "      <td>NaN</td>\n",
              "      <td>113</td>\n",
              "      <td>18.0</td>\n",
              "      <td>JDE7191</td>\n",
              "      <td>SV</td>\n",
              "      <td>7191</td>\n",
              "      <td>CA</td>\n",
              "      <td>{\"coordinates\": [[[[2.355490546882123, 48.8380...</td>\n",
              "      <td>http://p70-planet.apps.paris.mdp/Advitium/Appe...</td>\n",
              "      <td>NaN</td>\n",
              "    </tr>\n",
              "    <tr>\n",
              "      <th>1</th>\n",
              "      <td>117</td>\n",
              "      <td>SQUARE EUGENE VARLIN</td>\n",
              "      <td>Promenades ouvertes</td>\n",
              "      <td>Square</td>\n",
              "      <td>151.0</td>\n",
              "      <td>NaN</td>\n",
              "      <td>QUAI DE</td>\n",
              "      <td>JEMMAPES</td>\n",
              "      <td>75010</td>\n",
              "      <td>910.0</td>\n",
              "      <td>...</td>\n",
              "      <td>Oui</td>\n",
              "      <td>104</td>\n",
              "      <td>10.0</td>\n",
              "      <td>120389</td>\n",
              "      <td>3920</td>\n",
              "      <td>3582</td>\n",
              "      <td>CA</td>\n",
              "      <td>{\"coordinates\": [[[2.3662253295384845, 48.8784...</td>\n",
              "      <td>http://p70-planet.apps.paris.mdp/Advitium/Appe...</td>\n",
              "      <td>NaN</td>\n",
              "    </tr>\n",
              "    <tr>\n",
              "      <th>2</th>\n",
              "      <td>10282</td>\n",
              "      <td>DECORATION DE L'AVENUE LOWENDAL</td>\n",
              "      <td>Décorations sur la voie publique</td>\n",
              "      <td>Decoration</td>\n",
              "      <td>1.0</td>\n",
              "      <td>TER</td>\n",
              "      <td>AVENUE DE</td>\n",
              "      <td>LOWENDAL</td>\n",
              "      <td>75007</td>\n",
              "      <td>337.0</td>\n",
              "      <td>...</td>\n",
              "      <td>NaN</td>\n",
              "      <td>101</td>\n",
              "      <td>6.0</td>\n",
              "      <td>JDE7211</td>\n",
              "      <td>SV</td>\n",
              "      <td>7211</td>\n",
              "      <td>CA</td>\n",
              "      <td>{\"coordinates\": [[[[2.3092731713525896, 48.853...</td>\n",
              "      <td>http://p70-planet.apps.paris.mdp/Advitium/Appe...</td>\n",
              "      <td>NaN</td>\n",
              "    </tr>\n",
              "    <tr>\n",
              "      <th>3</th>\n",
              "      <td>10003</td>\n",
              "      <td>CIMETIERE PARISIEN DE BAGNEUX</td>\n",
              "      <td>Cimetières</td>\n",
              "      <td>Cimetière</td>\n",
              "      <td>45.0</td>\n",
              "      <td>NaN</td>\n",
              "      <td>AVENUE</td>\n",
              "      <td>MARX DORMOY</td>\n",
              "      <td>92220</td>\n",
              "      <td>629154.0</td>\n",
              "      <td>...</td>\n",
              "      <td>Non</td>\n",
              "      <td>12</td>\n",
              "      <td>153.0</td>\n",
              "      <td>72585</td>\n",
              "      <td>A92007</td>\n",
              "      <td>5083</td>\n",
              "      <td>CP</td>\n",
              "      <td>{\"coordinates\": [[[2.3073749120727873, 48.8100...</td>\n",
              "      <td>http://p70-planet.apps.paris.mdp/Advitium/Appe...</td>\n",
              "      <td>NaN</td>\n",
              "    </tr>\n",
              "    <tr>\n",
              "      <th>4</th>\n",
              "      <td>11513</td>\n",
              "      <td>JARDIN PARTAGE LES JARDINS PASSAGERS</td>\n",
              "      <td>Ephémères, partagés, pédagogiques</td>\n",
              "      <td>Jardin partage</td>\n",
              "      <td>5.0</td>\n",
              "      <td>NaN</td>\n",
              "      <td>PLACE DE LA</td>\n",
              "      <td>FONTAINE AUX LIONS</td>\n",
              "      <td>75019</td>\n",
              "      <td>2107.0</td>\n",
              "      <td>...</td>\n",
              "      <td>Non</td>\n",
              "      <td>119</td>\n",
              "      <td>41.0</td>\n",
              "      <td>0</td>\n",
              "      <td>294</td>\n",
              "      <td>6689</td>\n",
              "      <td>CP</td>\n",
              "      <td>{\"coordinates\": [[[2.388700480782764, 48.89095...</td>\n",
              "      <td>http://p70-planet.apps.paris.mdp/Advitium/Appe...</td>\n",
              "      <td>NaN</td>\n",
              "    </tr>\n",
              "  </tbody>\n",
              "</table>\n",
              "<p>5 rows × 29 columns</p>\n",
              "</div>\n",
              "      <button class=\"colab-df-convert\" onclick=\"convertToInteractive('df-01580948-f7db-431d-bf83-4ed77008f202')\"\n",
              "              title=\"Convert this dataframe to an interactive table.\"\n",
              "              style=\"display:none;\">\n",
              "        \n",
              "  <svg xmlns=\"http://www.w3.org/2000/svg\" height=\"24px\"viewBox=\"0 0 24 24\"\n",
              "       width=\"24px\">\n",
              "    <path d=\"M0 0h24v24H0V0z\" fill=\"none\"/>\n",
              "    <path d=\"M18.56 5.44l.94 2.06.94-2.06 2.06-.94-2.06-.94-.94-2.06-.94 2.06-2.06.94zm-11 1L8.5 8.5l.94-2.06 2.06-.94-2.06-.94L8.5 2.5l-.94 2.06-2.06.94zm10 10l.94 2.06.94-2.06 2.06-.94-2.06-.94-.94-2.06-.94 2.06-2.06.94z\"/><path d=\"M17.41 7.96l-1.37-1.37c-.4-.4-.92-.59-1.43-.59-.52 0-1.04.2-1.43.59L10.3 9.45l-7.72 7.72c-.78.78-.78 2.05 0 2.83L4 21.41c.39.39.9.59 1.41.59.51 0 1.02-.2 1.41-.59l7.78-7.78 2.81-2.81c.8-.78.8-2.07 0-2.86zM5.41 20L4 18.59l7.72-7.72 1.47 1.35L5.41 20z\"/>\n",
              "  </svg>\n",
              "      </button>\n",
              "      \n",
              "  <style>\n",
              "    .colab-df-container {\n",
              "      display:flex;\n",
              "      flex-wrap:wrap;\n",
              "      gap: 12px;\n",
              "    }\n",
              "\n",
              "    .colab-df-convert {\n",
              "      background-color: #E8F0FE;\n",
              "      border: none;\n",
              "      border-radius: 50%;\n",
              "      cursor: pointer;\n",
              "      display: none;\n",
              "      fill: #1967D2;\n",
              "      height: 32px;\n",
              "      padding: 0 0 0 0;\n",
              "      width: 32px;\n",
              "    }\n",
              "\n",
              "    .colab-df-convert:hover {\n",
              "      background-color: #E2EBFA;\n",
              "      box-shadow: 0px 1px 2px rgba(60, 64, 67, 0.3), 0px 1px 3px 1px rgba(60, 64, 67, 0.15);\n",
              "      fill: #174EA6;\n",
              "    }\n",
              "\n",
              "    [theme=dark] .colab-df-convert {\n",
              "      background-color: #3B4455;\n",
              "      fill: #D2E3FC;\n",
              "    }\n",
              "\n",
              "    [theme=dark] .colab-df-convert:hover {\n",
              "      background-color: #434B5C;\n",
              "      box-shadow: 0px 1px 3px 1px rgba(0, 0, 0, 0.15);\n",
              "      filter: drop-shadow(0px 1px 2px rgba(0, 0, 0, 0.3));\n",
              "      fill: #FFFFFF;\n",
              "    }\n",
              "  </style>\n",
              "\n",
              "      <script>\n",
              "        const buttonEl =\n",
              "          document.querySelector('#df-01580948-f7db-431d-bf83-4ed77008f202 button.colab-df-convert');\n",
              "        buttonEl.style.display =\n",
              "          google.colab.kernel.accessAllowed ? 'block' : 'none';\n",
              "\n",
              "        async function convertToInteractive(key) {\n",
              "          const element = document.querySelector('#df-01580948-f7db-431d-bf83-4ed77008f202');\n",
              "          const dataTable =\n",
              "            await google.colab.kernel.invokeFunction('convertToInteractive',\n",
              "                                                     [key], {});\n",
              "          if (!dataTable) return;\n",
              "\n",
              "          const docLinkHtml = 'Like what you see? Visit the ' +\n",
              "            '<a target=\"_blank\" href=https://colab.research.google.com/notebooks/data_table.ipynb>data table notebook</a>'\n",
              "            + ' to learn more about interactive tables.';\n",
              "          element.innerHTML = '';\n",
              "          dataTable['output_type'] = 'display_data';\n",
              "          await google.colab.output.renderOutput(dataTable, element);\n",
              "          const docLink = document.createElement('div');\n",
              "          docLink.innerHTML = docLinkHtml;\n",
              "          element.appendChild(docLink);\n",
              "        }\n",
              "      </script>\n",
              "    </div>\n",
              "  </div>\n",
              "  "
            ]
          },
          "metadata": {},
          "execution_count": 10
        }
      ]
    },
    {
      "cell_type": "code",
      "source": [
        "#Afficher le type de chaque champ du dataframe\n",
        "\n",
        "Espacesverts.dtypes #.dtypes permet de voir le type du champ"
      ],
      "metadata": {
        "colab": {
          "base_uri": "https://localhost:8080/"
        },
        "id": "SyRDsshgv1DZ",
        "outputId": "c8ad9b0a-bdfe-4bea-efa9-d65f8409e8b3"
      },
      "execution_count": null,
      "outputs": [
        {
          "output_type": "execute_result",
          "data": {
            "text/plain": [
              "nsq_espace_vert            int64\n",
              "nom_ev                    object\n",
              "type_ev                   object\n",
              "categorie                 object\n",
              "adresse_numero           float64\n",
              "adresse_complement        object\n",
              "adresse_typevoie          object\n",
              "adresse_libellevoie       object\n",
              "adresse_codepostal         int64\n",
              "poly_area                float64\n",
              "surface_totale_reelle    float64\n",
              "surface_horticole        float64\n",
              "presence_cloture          object\n",
              "perimeter                float64\n",
              "annee_ouverture          float64\n",
              "annee_renovation         float64\n",
              "ancien_nom_ev             object\n",
              "annee_changement_nom     float64\n",
              "nb_entites               float64\n",
              "ouvert_ferme              object\n",
              "id_division                int64\n",
              "id_atelier_horticole     float64\n",
              "ida3d_enb                 object\n",
              "site_villes               object\n",
              "id_eqpt                   object\n",
              "competence                object\n",
              "geom                      object\n",
              "url_plan                  object\n",
              "geom_x_y                 float64\n",
              "dtype: object"
            ]
          },
          "metadata": {},
          "execution_count": 11
        }
      ]
    },
    {
      "cell_type": "code",
      "source": [
        "#Compter le nombre d'enregistrements\n",
        "\n",
        "Espacesverts['nsq_espace_vert'].size\n",
        "#.size permet de compter le nombre de lignes sur le champs id du dataframe\n",
        "#(ici, nsq_espaces_verts)"
      ],
      "metadata": {
        "colab": {
          "base_uri": "https://localhost:8080/"
        },
        "id": "9xJAVRI8wKRh",
        "outputId": "6b7f7e74-452b-4fbd-f54f-7612fa6c12a7"
      },
      "execution_count": null,
      "outputs": [
        {
          "output_type": "execute_result",
          "data": {
            "text/plain": [
              "2242"
            ]
          },
          "metadata": {},
          "execution_count": 12
        }
      ]
    },
    {
      "cell_type": "code",
      "source": [
        "#Réorganiser la table (sélection des colonnes importantes)\n",
        "\n",
        "EspacesvertsOk = Espacesverts[[\"nsq_espace_vert\", \"nom_ev\", \"categorie\", \"adresse_codepostal\", \"surface_totale_reelle\", \"annee_ouverture\"]]\n",
        "#Nom du nv dataframe = ancien[[\"nom des champs\",...]]\n",
        "\n",
        "EspacesvertsOk.head()\n",
        "#La ligne permet de tjr montrer un extrait le dataframe"
      ],
      "metadata": {
        "colab": {
          "base_uri": "https://localhost:8080/",
          "height": 206
        },
        "id": "9TLPPjErxN-i",
        "outputId": "f177aa52-28ce-45c6-d644-1e335d4dec15"
      },
      "execution_count": null,
      "outputs": [
        {
          "output_type": "execute_result",
          "data": {
            "text/plain": [
              "   nsq_espace_vert                                       nom_ev  \\\n",
              "0            10263  DECORATION DU BOULEVARD SAINT-MARCEL (5EME)   \n",
              "1              117                         SQUARE EUGENE VARLIN   \n",
              "2            10282              DECORATION DE L'AVENUE LOWENDAL   \n",
              "3            10003                CIMETIERE PARISIEN DE BAGNEUX   \n",
              "4            11513         JARDIN PARTAGE LES JARDINS PASSAGERS   \n",
              "\n",
              "        categorie  adresse_codepostal  surface_totale_reelle  annee_ouverture  \n",
              "0      Decoration               75005                 1209.0              NaN  \n",
              "1          Square               75010                  975.0           1891.0  \n",
              "2      Decoration               75007                  338.0              NaN  \n",
              "3       Cimetière               92220               615200.0           1886.0  \n",
              "4  Jardin partage               75019                 2000.0           2009.0  "
            ],
            "text/html": [
              "\n",
              "  <div id=\"df-05e4225d-a8e5-4b61-9f6d-b15ca6c25999\">\n",
              "    <div class=\"colab-df-container\">\n",
              "      <div>\n",
              "<style scoped>\n",
              "    .dataframe tbody tr th:only-of-type {\n",
              "        vertical-align: middle;\n",
              "    }\n",
              "\n",
              "    .dataframe tbody tr th {\n",
              "        vertical-align: top;\n",
              "    }\n",
              "\n",
              "    .dataframe thead th {\n",
              "        text-align: right;\n",
              "    }\n",
              "</style>\n",
              "<table border=\"1\" class=\"dataframe\">\n",
              "  <thead>\n",
              "    <tr style=\"text-align: right;\">\n",
              "      <th></th>\n",
              "      <th>nsq_espace_vert</th>\n",
              "      <th>nom_ev</th>\n",
              "      <th>categorie</th>\n",
              "      <th>adresse_codepostal</th>\n",
              "      <th>surface_totale_reelle</th>\n",
              "      <th>annee_ouverture</th>\n",
              "    </tr>\n",
              "  </thead>\n",
              "  <tbody>\n",
              "    <tr>\n",
              "      <th>0</th>\n",
              "      <td>10263</td>\n",
              "      <td>DECORATION DU BOULEVARD SAINT-MARCEL (5EME)</td>\n",
              "      <td>Decoration</td>\n",
              "      <td>75005</td>\n",
              "      <td>1209.0</td>\n",
              "      <td>NaN</td>\n",
              "    </tr>\n",
              "    <tr>\n",
              "      <th>1</th>\n",
              "      <td>117</td>\n",
              "      <td>SQUARE EUGENE VARLIN</td>\n",
              "      <td>Square</td>\n",
              "      <td>75010</td>\n",
              "      <td>975.0</td>\n",
              "      <td>1891.0</td>\n",
              "    </tr>\n",
              "    <tr>\n",
              "      <th>2</th>\n",
              "      <td>10282</td>\n",
              "      <td>DECORATION DE L'AVENUE LOWENDAL</td>\n",
              "      <td>Decoration</td>\n",
              "      <td>75007</td>\n",
              "      <td>338.0</td>\n",
              "      <td>NaN</td>\n",
              "    </tr>\n",
              "    <tr>\n",
              "      <th>3</th>\n",
              "      <td>10003</td>\n",
              "      <td>CIMETIERE PARISIEN DE BAGNEUX</td>\n",
              "      <td>Cimetière</td>\n",
              "      <td>92220</td>\n",
              "      <td>615200.0</td>\n",
              "      <td>1886.0</td>\n",
              "    </tr>\n",
              "    <tr>\n",
              "      <th>4</th>\n",
              "      <td>11513</td>\n",
              "      <td>JARDIN PARTAGE LES JARDINS PASSAGERS</td>\n",
              "      <td>Jardin partage</td>\n",
              "      <td>75019</td>\n",
              "      <td>2000.0</td>\n",
              "      <td>2009.0</td>\n",
              "    </tr>\n",
              "  </tbody>\n",
              "</table>\n",
              "</div>\n",
              "      <button class=\"colab-df-convert\" onclick=\"convertToInteractive('df-05e4225d-a8e5-4b61-9f6d-b15ca6c25999')\"\n",
              "              title=\"Convert this dataframe to an interactive table.\"\n",
              "              style=\"display:none;\">\n",
              "        \n",
              "  <svg xmlns=\"http://www.w3.org/2000/svg\" height=\"24px\"viewBox=\"0 0 24 24\"\n",
              "       width=\"24px\">\n",
              "    <path d=\"M0 0h24v24H0V0z\" fill=\"none\"/>\n",
              "    <path d=\"M18.56 5.44l.94 2.06.94-2.06 2.06-.94-2.06-.94-.94-2.06-.94 2.06-2.06.94zm-11 1L8.5 8.5l.94-2.06 2.06-.94-2.06-.94L8.5 2.5l-.94 2.06-2.06.94zm10 10l.94 2.06.94-2.06 2.06-.94-2.06-.94-.94-2.06-.94 2.06-2.06.94z\"/><path d=\"M17.41 7.96l-1.37-1.37c-.4-.4-.92-.59-1.43-.59-.52 0-1.04.2-1.43.59L10.3 9.45l-7.72 7.72c-.78.78-.78 2.05 0 2.83L4 21.41c.39.39.9.59 1.41.59.51 0 1.02-.2 1.41-.59l7.78-7.78 2.81-2.81c.8-.78.8-2.07 0-2.86zM5.41 20L4 18.59l7.72-7.72 1.47 1.35L5.41 20z\"/>\n",
              "  </svg>\n",
              "      </button>\n",
              "      \n",
              "  <style>\n",
              "    .colab-df-container {\n",
              "      display:flex;\n",
              "      flex-wrap:wrap;\n",
              "      gap: 12px;\n",
              "    }\n",
              "\n",
              "    .colab-df-convert {\n",
              "      background-color: #E8F0FE;\n",
              "      border: none;\n",
              "      border-radius: 50%;\n",
              "      cursor: pointer;\n",
              "      display: none;\n",
              "      fill: #1967D2;\n",
              "      height: 32px;\n",
              "      padding: 0 0 0 0;\n",
              "      width: 32px;\n",
              "    }\n",
              "\n",
              "    .colab-df-convert:hover {\n",
              "      background-color: #E2EBFA;\n",
              "      box-shadow: 0px 1px 2px rgba(60, 64, 67, 0.3), 0px 1px 3px 1px rgba(60, 64, 67, 0.15);\n",
              "      fill: #174EA6;\n",
              "    }\n",
              "\n",
              "    [theme=dark] .colab-df-convert {\n",
              "      background-color: #3B4455;\n",
              "      fill: #D2E3FC;\n",
              "    }\n",
              "\n",
              "    [theme=dark] .colab-df-convert:hover {\n",
              "      background-color: #434B5C;\n",
              "      box-shadow: 0px 1px 3px 1px rgba(0, 0, 0, 0.15);\n",
              "      filter: drop-shadow(0px 1px 2px rgba(0, 0, 0, 0.3));\n",
              "      fill: #FFFFFF;\n",
              "    }\n",
              "  </style>\n",
              "\n",
              "      <script>\n",
              "        const buttonEl =\n",
              "          document.querySelector('#df-05e4225d-a8e5-4b61-9f6d-b15ca6c25999 button.colab-df-convert');\n",
              "        buttonEl.style.display =\n",
              "          google.colab.kernel.accessAllowed ? 'block' : 'none';\n",
              "\n",
              "        async function convertToInteractive(key) {\n",
              "          const element = document.querySelector('#df-05e4225d-a8e5-4b61-9f6d-b15ca6c25999');\n",
              "          const dataTable =\n",
              "            await google.colab.kernel.invokeFunction('convertToInteractive',\n",
              "                                                     [key], {});\n",
              "          if (!dataTable) return;\n",
              "\n",
              "          const docLinkHtml = 'Like what you see? Visit the ' +\n",
              "            '<a target=\"_blank\" href=https://colab.research.google.com/notebooks/data_table.ipynb>data table notebook</a>'\n",
              "            + ' to learn more about interactive tables.';\n",
              "          element.innerHTML = '';\n",
              "          dataTable['output_type'] = 'display_data';\n",
              "          await google.colab.output.renderOutput(dataTable, element);\n",
              "          const docLink = document.createElement('div');\n",
              "          docLink.innerHTML = docLinkHtml;\n",
              "          element.appendChild(docLink);\n",
              "        }\n",
              "      </script>\n",
              "    </div>\n",
              "  </div>\n",
              "  "
            ]
          },
          "metadata": {},
          "execution_count": 14
        }
      ]
    },
    {
      "cell_type": "code",
      "source": [
        "# Renommer les noms des champs\n",
        "\n",
        "EspacesvertsOk.rename(columns={'nsq_espace_vert': 'id','nom_ev': 'nom','adresse_codepostal': 'CodePostal', 'surface_totale_reelle' : 'surface', 'annee_ouverture': 'ouverture'}, inplace=True)\n",
        "#.rename pour renommer et on renomme par ancien nom : nv nom\n",
        "\n",
        "EspacesvertsOk.head()"
      ],
      "metadata": {
        "colab": {
          "base_uri": "https://localhost:8080/",
          "height": 296
        },
        "id": "qXka8317x2Ol",
        "outputId": "ee083e03-e85d-45ec-d9cc-3c793bd28a5f"
      },
      "execution_count": null,
      "outputs": [
        {
          "output_type": "stream",
          "name": "stderr",
          "text": [
            "/usr/local/lib/python3.9/dist-packages/pandas/core/frame.py:5039: SettingWithCopyWarning: \n",
            "A value is trying to be set on a copy of a slice from a DataFrame\n",
            "\n",
            "See the caveats in the documentation: https://pandas.pydata.org/pandas-docs/stable/user_guide/indexing.html#returning-a-view-versus-a-copy\n",
            "  return super().rename(\n"
          ]
        },
        {
          "output_type": "execute_result",
          "data": {
            "text/plain": [
              "      id                                          nom       categorie  \\\n",
              "0  10263  DECORATION DU BOULEVARD SAINT-MARCEL (5EME)      Decoration   \n",
              "1    117                         SQUARE EUGENE VARLIN          Square   \n",
              "2  10282              DECORATION DE L'AVENUE LOWENDAL      Decoration   \n",
              "3  10003                CIMETIERE PARISIEN DE BAGNEUX       Cimetière   \n",
              "4  11513         JARDIN PARTAGE LES JARDINS PASSAGERS  Jardin partage   \n",
              "\n",
              "   CodePostal   surface  ouverture  \n",
              "0       75005    1209.0        NaN  \n",
              "1       75010     975.0     1891.0  \n",
              "2       75007     338.0        NaN  \n",
              "3       92220  615200.0     1886.0  \n",
              "4       75019    2000.0     2009.0  "
            ],
            "text/html": [
              "\n",
              "  <div id=\"df-033b35b4-e324-4494-aac5-86b1528acfc7\">\n",
              "    <div class=\"colab-df-container\">\n",
              "      <div>\n",
              "<style scoped>\n",
              "    .dataframe tbody tr th:only-of-type {\n",
              "        vertical-align: middle;\n",
              "    }\n",
              "\n",
              "    .dataframe tbody tr th {\n",
              "        vertical-align: top;\n",
              "    }\n",
              "\n",
              "    .dataframe thead th {\n",
              "        text-align: right;\n",
              "    }\n",
              "</style>\n",
              "<table border=\"1\" class=\"dataframe\">\n",
              "  <thead>\n",
              "    <tr style=\"text-align: right;\">\n",
              "      <th></th>\n",
              "      <th>id</th>\n",
              "      <th>nom</th>\n",
              "      <th>categorie</th>\n",
              "      <th>CodePostal</th>\n",
              "      <th>surface</th>\n",
              "      <th>ouverture</th>\n",
              "    </tr>\n",
              "  </thead>\n",
              "  <tbody>\n",
              "    <tr>\n",
              "      <th>0</th>\n",
              "      <td>10263</td>\n",
              "      <td>DECORATION DU BOULEVARD SAINT-MARCEL (5EME)</td>\n",
              "      <td>Decoration</td>\n",
              "      <td>75005</td>\n",
              "      <td>1209.0</td>\n",
              "      <td>NaN</td>\n",
              "    </tr>\n",
              "    <tr>\n",
              "      <th>1</th>\n",
              "      <td>117</td>\n",
              "      <td>SQUARE EUGENE VARLIN</td>\n",
              "      <td>Square</td>\n",
              "      <td>75010</td>\n",
              "      <td>975.0</td>\n",
              "      <td>1891.0</td>\n",
              "    </tr>\n",
              "    <tr>\n",
              "      <th>2</th>\n",
              "      <td>10282</td>\n",
              "      <td>DECORATION DE L'AVENUE LOWENDAL</td>\n",
              "      <td>Decoration</td>\n",
              "      <td>75007</td>\n",
              "      <td>338.0</td>\n",
              "      <td>NaN</td>\n",
              "    </tr>\n",
              "    <tr>\n",
              "      <th>3</th>\n",
              "      <td>10003</td>\n",
              "      <td>CIMETIERE PARISIEN DE BAGNEUX</td>\n",
              "      <td>Cimetière</td>\n",
              "      <td>92220</td>\n",
              "      <td>615200.0</td>\n",
              "      <td>1886.0</td>\n",
              "    </tr>\n",
              "    <tr>\n",
              "      <th>4</th>\n",
              "      <td>11513</td>\n",
              "      <td>JARDIN PARTAGE LES JARDINS PASSAGERS</td>\n",
              "      <td>Jardin partage</td>\n",
              "      <td>75019</td>\n",
              "      <td>2000.0</td>\n",
              "      <td>2009.0</td>\n",
              "    </tr>\n",
              "  </tbody>\n",
              "</table>\n",
              "</div>\n",
              "      <button class=\"colab-df-convert\" onclick=\"convertToInteractive('df-033b35b4-e324-4494-aac5-86b1528acfc7')\"\n",
              "              title=\"Convert this dataframe to an interactive table.\"\n",
              "              style=\"display:none;\">\n",
              "        \n",
              "  <svg xmlns=\"http://www.w3.org/2000/svg\" height=\"24px\"viewBox=\"0 0 24 24\"\n",
              "       width=\"24px\">\n",
              "    <path d=\"M0 0h24v24H0V0z\" fill=\"none\"/>\n",
              "    <path d=\"M18.56 5.44l.94 2.06.94-2.06 2.06-.94-2.06-.94-.94-2.06-.94 2.06-2.06.94zm-11 1L8.5 8.5l.94-2.06 2.06-.94-2.06-.94L8.5 2.5l-.94 2.06-2.06.94zm10 10l.94 2.06.94-2.06 2.06-.94-2.06-.94-.94-2.06-.94 2.06-2.06.94z\"/><path d=\"M17.41 7.96l-1.37-1.37c-.4-.4-.92-.59-1.43-.59-.52 0-1.04.2-1.43.59L10.3 9.45l-7.72 7.72c-.78.78-.78 2.05 0 2.83L4 21.41c.39.39.9.59 1.41.59.51 0 1.02-.2 1.41-.59l7.78-7.78 2.81-2.81c.8-.78.8-2.07 0-2.86zM5.41 20L4 18.59l7.72-7.72 1.47 1.35L5.41 20z\"/>\n",
              "  </svg>\n",
              "      </button>\n",
              "      \n",
              "  <style>\n",
              "    .colab-df-container {\n",
              "      display:flex;\n",
              "      flex-wrap:wrap;\n",
              "      gap: 12px;\n",
              "    }\n",
              "\n",
              "    .colab-df-convert {\n",
              "      background-color: #E8F0FE;\n",
              "      border: none;\n",
              "      border-radius: 50%;\n",
              "      cursor: pointer;\n",
              "      display: none;\n",
              "      fill: #1967D2;\n",
              "      height: 32px;\n",
              "      padding: 0 0 0 0;\n",
              "      width: 32px;\n",
              "    }\n",
              "\n",
              "    .colab-df-convert:hover {\n",
              "      background-color: #E2EBFA;\n",
              "      box-shadow: 0px 1px 2px rgba(60, 64, 67, 0.3), 0px 1px 3px 1px rgba(60, 64, 67, 0.15);\n",
              "      fill: #174EA6;\n",
              "    }\n",
              "\n",
              "    [theme=dark] .colab-df-convert {\n",
              "      background-color: #3B4455;\n",
              "      fill: #D2E3FC;\n",
              "    }\n",
              "\n",
              "    [theme=dark] .colab-df-convert:hover {\n",
              "      background-color: #434B5C;\n",
              "      box-shadow: 0px 1px 3px 1px rgba(0, 0, 0, 0.15);\n",
              "      filter: drop-shadow(0px 1px 2px rgba(0, 0, 0, 0.3));\n",
              "      fill: #FFFFFF;\n",
              "    }\n",
              "  </style>\n",
              "\n",
              "      <script>\n",
              "        const buttonEl =\n",
              "          document.querySelector('#df-033b35b4-e324-4494-aac5-86b1528acfc7 button.colab-df-convert');\n",
              "        buttonEl.style.display =\n",
              "          google.colab.kernel.accessAllowed ? 'block' : 'none';\n",
              "\n",
              "        async function convertToInteractive(key) {\n",
              "          const element = document.querySelector('#df-033b35b4-e324-4494-aac5-86b1528acfc7');\n",
              "          const dataTable =\n",
              "            await google.colab.kernel.invokeFunction('convertToInteractive',\n",
              "                                                     [key], {});\n",
              "          if (!dataTable) return;\n",
              "\n",
              "          const docLinkHtml = 'Like what you see? Visit the ' +\n",
              "            '<a target=\"_blank\" href=https://colab.research.google.com/notebooks/data_table.ipynb>data table notebook</a>'\n",
              "            + ' to learn more about interactive tables.';\n",
              "          element.innerHTML = '';\n",
              "          dataTable['output_type'] = 'display_data';\n",
              "          await google.colab.output.renderOutput(dataTable, element);\n",
              "          const docLink = document.createElement('div');\n",
              "          docLink.innerHTML = docLinkHtml;\n",
              "          element.appendChild(docLink);\n",
              "        }\n",
              "      </script>\n",
              "    </div>\n",
              "  </div>\n",
              "  "
            ]
          },
          "metadata": {},
          "execution_count": 17
        }
      ]
    },
    {
      "cell_type": "code",
      "source": [
        "#Changer le type d'une colonne\n",
        "\n",
        "EspacesvertsOk['id'] = EspacesvertsOk['id'].astype(str)\n",
        "#Nom du df['nom du champ']= nom df ['nom du champ'].astype(type voulu)\n",
        "\n",
        "EspacesvertsOk.dtypes"
      ],
      "metadata": {
        "colab": {
          "base_uri": "https://localhost:8080/"
        },
        "id": "6vSDGHbXypnh",
        "outputId": "8ae6631b-53fe-41a7-f153-70e1a537fce6"
      },
      "execution_count": null,
      "outputs": [
        {
          "output_type": "stream",
          "name": "stderr",
          "text": [
            "<ipython-input-18-76f35cf748fa>:3: SettingWithCopyWarning: \n",
            "A value is trying to be set on a copy of a slice from a DataFrame.\n",
            "Try using .loc[row_indexer,col_indexer] = value instead\n",
            "\n",
            "See the caveats in the documentation: https://pandas.pydata.org/pandas-docs/stable/user_guide/indexing.html#returning-a-view-versus-a-copy\n",
            "  EspacesvertsOk['id'] = EspacesvertsOk['id'].astype(str)\n"
          ]
        },
        {
          "output_type": "execute_result",
          "data": {
            "text/plain": [
              "id             object\n",
              "nom            object\n",
              "categorie      object\n",
              "CodePostal      int64\n",
              "surface       float64\n",
              "ouverture     float64\n",
              "dtype: object"
            ]
          },
          "metadata": {},
          "execution_count": 18
        }
      ]
    },
    {
      "cell_type": "code",
      "source": [
        "# Concaténer des champs\n",
        "\n",
        "EspacesvertsOk[\"concat\"] = EspacesvertsOk[\"categorie\"] + \" - \" + EspacesvertsOk[\"nom\"]\n",
        "#Création d'un nv champs dans le df = concat des deux champs avec - en sep.\n",
        "EspacesvertsOk.head()"
      ],
      "metadata": {
        "colab": {
          "base_uri": "https://localhost:8080/",
          "height": 313
        },
        "id": "NdgJHHr2zoUS",
        "outputId": "e082a7cd-08cf-49df-df40-0222389288bc"
      },
      "execution_count": null,
      "outputs": [
        {
          "output_type": "stream",
          "name": "stderr",
          "text": [
            "<ipython-input-19-bd9ae6b32d9b>:3: SettingWithCopyWarning: \n",
            "A value is trying to be set on a copy of a slice from a DataFrame.\n",
            "Try using .loc[row_indexer,col_indexer] = value instead\n",
            "\n",
            "See the caveats in the documentation: https://pandas.pydata.org/pandas-docs/stable/user_guide/indexing.html#returning-a-view-versus-a-copy\n",
            "  EspacesvertsOk[\"concat\"] = EspacesvertsOk[\"categorie\"] + \" - \" + EspacesvertsOk[\"nom\"]\n"
          ]
        },
        {
          "output_type": "execute_result",
          "data": {
            "text/plain": [
              "      id                                          nom       categorie  \\\n",
              "0  10263  DECORATION DU BOULEVARD SAINT-MARCEL (5EME)      Decoration   \n",
              "1    117                         SQUARE EUGENE VARLIN          Square   \n",
              "2  10282              DECORATION DE L'AVENUE LOWENDAL      Decoration   \n",
              "3  10003                CIMETIERE PARISIEN DE BAGNEUX       Cimetière   \n",
              "4  11513         JARDIN PARTAGE LES JARDINS PASSAGERS  Jardin partage   \n",
              "\n",
              "   CodePostal   surface  ouverture  \\\n",
              "0       75005    1209.0        NaN   \n",
              "1       75010     975.0     1891.0   \n",
              "2       75007     338.0        NaN   \n",
              "3       92220  615200.0     1886.0   \n",
              "4       75019    2000.0     2009.0   \n",
              "\n",
              "                                              concat  \n",
              "0  Decoration - DECORATION DU BOULEVARD SAINT-MAR...  \n",
              "1                      Square - SQUARE EUGENE VARLIN  \n",
              "2       Decoration - DECORATION DE L'AVENUE LOWENDAL  \n",
              "3          Cimetière - CIMETIERE PARISIEN DE BAGNEUX  \n",
              "4  Jardin partage - JARDIN PARTAGE LES JARDINS PA...  "
            ],
            "text/html": [
              "\n",
              "  <div id=\"df-571cadc1-04c6-4b24-bf99-2bf8dab6c467\">\n",
              "    <div class=\"colab-df-container\">\n",
              "      <div>\n",
              "<style scoped>\n",
              "    .dataframe tbody tr th:only-of-type {\n",
              "        vertical-align: middle;\n",
              "    }\n",
              "\n",
              "    .dataframe tbody tr th {\n",
              "        vertical-align: top;\n",
              "    }\n",
              "\n",
              "    .dataframe thead th {\n",
              "        text-align: right;\n",
              "    }\n",
              "</style>\n",
              "<table border=\"1\" class=\"dataframe\">\n",
              "  <thead>\n",
              "    <tr style=\"text-align: right;\">\n",
              "      <th></th>\n",
              "      <th>id</th>\n",
              "      <th>nom</th>\n",
              "      <th>categorie</th>\n",
              "      <th>CodePostal</th>\n",
              "      <th>surface</th>\n",
              "      <th>ouverture</th>\n",
              "      <th>concat</th>\n",
              "    </tr>\n",
              "  </thead>\n",
              "  <tbody>\n",
              "    <tr>\n",
              "      <th>0</th>\n",
              "      <td>10263</td>\n",
              "      <td>DECORATION DU BOULEVARD SAINT-MARCEL (5EME)</td>\n",
              "      <td>Decoration</td>\n",
              "      <td>75005</td>\n",
              "      <td>1209.0</td>\n",
              "      <td>NaN</td>\n",
              "      <td>Decoration - DECORATION DU BOULEVARD SAINT-MAR...</td>\n",
              "    </tr>\n",
              "    <tr>\n",
              "      <th>1</th>\n",
              "      <td>117</td>\n",
              "      <td>SQUARE EUGENE VARLIN</td>\n",
              "      <td>Square</td>\n",
              "      <td>75010</td>\n",
              "      <td>975.0</td>\n",
              "      <td>1891.0</td>\n",
              "      <td>Square - SQUARE EUGENE VARLIN</td>\n",
              "    </tr>\n",
              "    <tr>\n",
              "      <th>2</th>\n",
              "      <td>10282</td>\n",
              "      <td>DECORATION DE L'AVENUE LOWENDAL</td>\n",
              "      <td>Decoration</td>\n",
              "      <td>75007</td>\n",
              "      <td>338.0</td>\n",
              "      <td>NaN</td>\n",
              "      <td>Decoration - DECORATION DE L'AVENUE LOWENDAL</td>\n",
              "    </tr>\n",
              "    <tr>\n",
              "      <th>3</th>\n",
              "      <td>10003</td>\n",
              "      <td>CIMETIERE PARISIEN DE BAGNEUX</td>\n",
              "      <td>Cimetière</td>\n",
              "      <td>92220</td>\n",
              "      <td>615200.0</td>\n",
              "      <td>1886.0</td>\n",
              "      <td>Cimetière - CIMETIERE PARISIEN DE BAGNEUX</td>\n",
              "    </tr>\n",
              "    <tr>\n",
              "      <th>4</th>\n",
              "      <td>11513</td>\n",
              "      <td>JARDIN PARTAGE LES JARDINS PASSAGERS</td>\n",
              "      <td>Jardin partage</td>\n",
              "      <td>75019</td>\n",
              "      <td>2000.0</td>\n",
              "      <td>2009.0</td>\n",
              "      <td>Jardin partage - JARDIN PARTAGE LES JARDINS PA...</td>\n",
              "    </tr>\n",
              "  </tbody>\n",
              "</table>\n",
              "</div>\n",
              "      <button class=\"colab-df-convert\" onclick=\"convertToInteractive('df-571cadc1-04c6-4b24-bf99-2bf8dab6c467')\"\n",
              "              title=\"Convert this dataframe to an interactive table.\"\n",
              "              style=\"display:none;\">\n",
              "        \n",
              "  <svg xmlns=\"http://www.w3.org/2000/svg\" height=\"24px\"viewBox=\"0 0 24 24\"\n",
              "       width=\"24px\">\n",
              "    <path d=\"M0 0h24v24H0V0z\" fill=\"none\"/>\n",
              "    <path d=\"M18.56 5.44l.94 2.06.94-2.06 2.06-.94-2.06-.94-.94-2.06-.94 2.06-2.06.94zm-11 1L8.5 8.5l.94-2.06 2.06-.94-2.06-.94L8.5 2.5l-.94 2.06-2.06.94zm10 10l.94 2.06.94-2.06 2.06-.94-2.06-.94-.94-2.06-.94 2.06-2.06.94z\"/><path d=\"M17.41 7.96l-1.37-1.37c-.4-.4-.92-.59-1.43-.59-.52 0-1.04.2-1.43.59L10.3 9.45l-7.72 7.72c-.78.78-.78 2.05 0 2.83L4 21.41c.39.39.9.59 1.41.59.51 0 1.02-.2 1.41-.59l7.78-7.78 2.81-2.81c.8-.78.8-2.07 0-2.86zM5.41 20L4 18.59l7.72-7.72 1.47 1.35L5.41 20z\"/>\n",
              "  </svg>\n",
              "      </button>\n",
              "      \n",
              "  <style>\n",
              "    .colab-df-container {\n",
              "      display:flex;\n",
              "      flex-wrap:wrap;\n",
              "      gap: 12px;\n",
              "    }\n",
              "\n",
              "    .colab-df-convert {\n",
              "      background-color: #E8F0FE;\n",
              "      border: none;\n",
              "      border-radius: 50%;\n",
              "      cursor: pointer;\n",
              "      display: none;\n",
              "      fill: #1967D2;\n",
              "      height: 32px;\n",
              "      padding: 0 0 0 0;\n",
              "      width: 32px;\n",
              "    }\n",
              "\n",
              "    .colab-df-convert:hover {\n",
              "      background-color: #E2EBFA;\n",
              "      box-shadow: 0px 1px 2px rgba(60, 64, 67, 0.3), 0px 1px 3px 1px rgba(60, 64, 67, 0.15);\n",
              "      fill: #174EA6;\n",
              "    }\n",
              "\n",
              "    [theme=dark] .colab-df-convert {\n",
              "      background-color: #3B4455;\n",
              "      fill: #D2E3FC;\n",
              "    }\n",
              "\n",
              "    [theme=dark] .colab-df-convert:hover {\n",
              "      background-color: #434B5C;\n",
              "      box-shadow: 0px 1px 3px 1px rgba(0, 0, 0, 0.15);\n",
              "      filter: drop-shadow(0px 1px 2px rgba(0, 0, 0, 0.3));\n",
              "      fill: #FFFFFF;\n",
              "    }\n",
              "  </style>\n",
              "\n",
              "      <script>\n",
              "        const buttonEl =\n",
              "          document.querySelector('#df-571cadc1-04c6-4b24-bf99-2bf8dab6c467 button.colab-df-convert');\n",
              "        buttonEl.style.display =\n",
              "          google.colab.kernel.accessAllowed ? 'block' : 'none';\n",
              "\n",
              "        async function convertToInteractive(key) {\n",
              "          const element = document.querySelector('#df-571cadc1-04c6-4b24-bf99-2bf8dab6c467');\n",
              "          const dataTable =\n",
              "            await google.colab.kernel.invokeFunction('convertToInteractive',\n",
              "                                                     [key], {});\n",
              "          if (!dataTable) return;\n",
              "\n",
              "          const docLinkHtml = 'Like what you see? Visit the ' +\n",
              "            '<a target=\"_blank\" href=https://colab.research.google.com/notebooks/data_table.ipynb>data table notebook</a>'\n",
              "            + ' to learn more about interactive tables.';\n",
              "          element.innerHTML = '';\n",
              "          dataTable['output_type'] = 'display_data';\n",
              "          await google.colab.output.renderOutput(dataTable, element);\n",
              "          const docLink = document.createElement('div');\n",
              "          docLink.innerHTML = docLinkHtml;\n",
              "          element.appendChild(docLink);\n",
              "        }\n",
              "      </script>\n",
              "    </div>\n",
              "  </div>\n",
              "  "
            ]
          },
          "metadata": {},
          "execution_count": 19
        }
      ]
    },
    {
      "cell_type": "code",
      "source": [
        "#Diviser un champ\n",
        "EspacesvertsOk['CodePostal'] = EspacesvertsOk['CodePostal'].astype(str)\n",
        "#Transformation en chaine de caractère\n",
        "EspacesvertsOk['Arrondissement'] = EspacesvertsOk['CodePostal'].str[-2:]\n",
        "#Création d'un nv champs avec concat des deux derniers .str[-2:]\n",
        "#Si deux premiers faire .str[:2]\n",
        "EspacesvertsOk.head()"
      ],
      "metadata": {
        "colab": {
          "base_uri": "https://localhost:8080/",
          "height": 421
        },
        "id": "hY_HF6S-0ZSS",
        "outputId": "3553ed17-c932-4996-be63-5ab414126abd"
      },
      "execution_count": null,
      "outputs": [
        {
          "output_type": "stream",
          "name": "stderr",
          "text": [
            "<ipython-input-20-78f0d682bcff>:2: SettingWithCopyWarning: \n",
            "A value is trying to be set on a copy of a slice from a DataFrame.\n",
            "Try using .loc[row_indexer,col_indexer] = value instead\n",
            "\n",
            "See the caveats in the documentation: https://pandas.pydata.org/pandas-docs/stable/user_guide/indexing.html#returning-a-view-versus-a-copy\n",
            "  EspacesvertsOk['CodePostal'] = EspacesvertsOk['CodePostal'].astype(str)\n",
            "<ipython-input-20-78f0d682bcff>:4: SettingWithCopyWarning: \n",
            "A value is trying to be set on a copy of a slice from a DataFrame.\n",
            "Try using .loc[row_indexer,col_indexer] = value instead\n",
            "\n",
            "See the caveats in the documentation: https://pandas.pydata.org/pandas-docs/stable/user_guide/indexing.html#returning-a-view-versus-a-copy\n",
            "  EspacesvertsOk['Arrondissement'] = EspacesvertsOk['CodePostal'].str[-2:]\n"
          ]
        },
        {
          "output_type": "execute_result",
          "data": {
            "text/plain": [
              "      id                                          nom       categorie  \\\n",
              "0  10263  DECORATION DU BOULEVARD SAINT-MARCEL (5EME)      Decoration   \n",
              "1    117                         SQUARE EUGENE VARLIN          Square   \n",
              "2  10282              DECORATION DE L'AVENUE LOWENDAL      Decoration   \n",
              "3  10003                CIMETIERE PARISIEN DE BAGNEUX       Cimetière   \n",
              "4  11513         JARDIN PARTAGE LES JARDINS PASSAGERS  Jardin partage   \n",
              "\n",
              "  CodePostal   surface  ouverture  \\\n",
              "0      75005    1209.0        NaN   \n",
              "1      75010     975.0     1891.0   \n",
              "2      75007     338.0        NaN   \n",
              "3      92220  615200.0     1886.0   \n",
              "4      75019    2000.0     2009.0   \n",
              "\n",
              "                                              concat Arrondissement  \n",
              "0  Decoration - DECORATION DU BOULEVARD SAINT-MAR...             05  \n",
              "1                      Square - SQUARE EUGENE VARLIN             10  \n",
              "2       Decoration - DECORATION DE L'AVENUE LOWENDAL             07  \n",
              "3          Cimetière - CIMETIERE PARISIEN DE BAGNEUX             20  \n",
              "4  Jardin partage - JARDIN PARTAGE LES JARDINS PA...             19  "
            ],
            "text/html": [
              "\n",
              "  <div id=\"df-0db44eab-7557-4fc2-a2b7-e6ab82386b69\">\n",
              "    <div class=\"colab-df-container\">\n",
              "      <div>\n",
              "<style scoped>\n",
              "    .dataframe tbody tr th:only-of-type {\n",
              "        vertical-align: middle;\n",
              "    }\n",
              "\n",
              "    .dataframe tbody tr th {\n",
              "        vertical-align: top;\n",
              "    }\n",
              "\n",
              "    .dataframe thead th {\n",
              "        text-align: right;\n",
              "    }\n",
              "</style>\n",
              "<table border=\"1\" class=\"dataframe\">\n",
              "  <thead>\n",
              "    <tr style=\"text-align: right;\">\n",
              "      <th></th>\n",
              "      <th>id</th>\n",
              "      <th>nom</th>\n",
              "      <th>categorie</th>\n",
              "      <th>CodePostal</th>\n",
              "      <th>surface</th>\n",
              "      <th>ouverture</th>\n",
              "      <th>concat</th>\n",
              "      <th>Arrondissement</th>\n",
              "    </tr>\n",
              "  </thead>\n",
              "  <tbody>\n",
              "    <tr>\n",
              "      <th>0</th>\n",
              "      <td>10263</td>\n",
              "      <td>DECORATION DU BOULEVARD SAINT-MARCEL (5EME)</td>\n",
              "      <td>Decoration</td>\n",
              "      <td>75005</td>\n",
              "      <td>1209.0</td>\n",
              "      <td>NaN</td>\n",
              "      <td>Decoration - DECORATION DU BOULEVARD SAINT-MAR...</td>\n",
              "      <td>05</td>\n",
              "    </tr>\n",
              "    <tr>\n",
              "      <th>1</th>\n",
              "      <td>117</td>\n",
              "      <td>SQUARE EUGENE VARLIN</td>\n",
              "      <td>Square</td>\n",
              "      <td>75010</td>\n",
              "      <td>975.0</td>\n",
              "      <td>1891.0</td>\n",
              "      <td>Square - SQUARE EUGENE VARLIN</td>\n",
              "      <td>10</td>\n",
              "    </tr>\n",
              "    <tr>\n",
              "      <th>2</th>\n",
              "      <td>10282</td>\n",
              "      <td>DECORATION DE L'AVENUE LOWENDAL</td>\n",
              "      <td>Decoration</td>\n",
              "      <td>75007</td>\n",
              "      <td>338.0</td>\n",
              "      <td>NaN</td>\n",
              "      <td>Decoration - DECORATION DE L'AVENUE LOWENDAL</td>\n",
              "      <td>07</td>\n",
              "    </tr>\n",
              "    <tr>\n",
              "      <th>3</th>\n",
              "      <td>10003</td>\n",
              "      <td>CIMETIERE PARISIEN DE BAGNEUX</td>\n",
              "      <td>Cimetière</td>\n",
              "      <td>92220</td>\n",
              "      <td>615200.0</td>\n",
              "      <td>1886.0</td>\n",
              "      <td>Cimetière - CIMETIERE PARISIEN DE BAGNEUX</td>\n",
              "      <td>20</td>\n",
              "    </tr>\n",
              "    <tr>\n",
              "      <th>4</th>\n",
              "      <td>11513</td>\n",
              "      <td>JARDIN PARTAGE LES JARDINS PASSAGERS</td>\n",
              "      <td>Jardin partage</td>\n",
              "      <td>75019</td>\n",
              "      <td>2000.0</td>\n",
              "      <td>2009.0</td>\n",
              "      <td>Jardin partage - JARDIN PARTAGE LES JARDINS PA...</td>\n",
              "      <td>19</td>\n",
              "    </tr>\n",
              "  </tbody>\n",
              "</table>\n",
              "</div>\n",
              "      <button class=\"colab-df-convert\" onclick=\"convertToInteractive('df-0db44eab-7557-4fc2-a2b7-e6ab82386b69')\"\n",
              "              title=\"Convert this dataframe to an interactive table.\"\n",
              "              style=\"display:none;\">\n",
              "        \n",
              "  <svg xmlns=\"http://www.w3.org/2000/svg\" height=\"24px\"viewBox=\"0 0 24 24\"\n",
              "       width=\"24px\">\n",
              "    <path d=\"M0 0h24v24H0V0z\" fill=\"none\"/>\n",
              "    <path d=\"M18.56 5.44l.94 2.06.94-2.06 2.06-.94-2.06-.94-.94-2.06-.94 2.06-2.06.94zm-11 1L8.5 8.5l.94-2.06 2.06-.94-2.06-.94L8.5 2.5l-.94 2.06-2.06.94zm10 10l.94 2.06.94-2.06 2.06-.94-2.06-.94-.94-2.06-.94 2.06-2.06.94z\"/><path d=\"M17.41 7.96l-1.37-1.37c-.4-.4-.92-.59-1.43-.59-.52 0-1.04.2-1.43.59L10.3 9.45l-7.72 7.72c-.78.78-.78 2.05 0 2.83L4 21.41c.39.39.9.59 1.41.59.51 0 1.02-.2 1.41-.59l7.78-7.78 2.81-2.81c.8-.78.8-2.07 0-2.86zM5.41 20L4 18.59l7.72-7.72 1.47 1.35L5.41 20z\"/>\n",
              "  </svg>\n",
              "      </button>\n",
              "      \n",
              "  <style>\n",
              "    .colab-df-container {\n",
              "      display:flex;\n",
              "      flex-wrap:wrap;\n",
              "      gap: 12px;\n",
              "    }\n",
              "\n",
              "    .colab-df-convert {\n",
              "      background-color: #E8F0FE;\n",
              "      border: none;\n",
              "      border-radius: 50%;\n",
              "      cursor: pointer;\n",
              "      display: none;\n",
              "      fill: #1967D2;\n",
              "      height: 32px;\n",
              "      padding: 0 0 0 0;\n",
              "      width: 32px;\n",
              "    }\n",
              "\n",
              "    .colab-df-convert:hover {\n",
              "      background-color: #E2EBFA;\n",
              "      box-shadow: 0px 1px 2px rgba(60, 64, 67, 0.3), 0px 1px 3px 1px rgba(60, 64, 67, 0.15);\n",
              "      fill: #174EA6;\n",
              "    }\n",
              "\n",
              "    [theme=dark] .colab-df-convert {\n",
              "      background-color: #3B4455;\n",
              "      fill: #D2E3FC;\n",
              "    }\n",
              "\n",
              "    [theme=dark] .colab-df-convert:hover {\n",
              "      background-color: #434B5C;\n",
              "      box-shadow: 0px 1px 3px 1px rgba(0, 0, 0, 0.15);\n",
              "      filter: drop-shadow(0px 1px 2px rgba(0, 0, 0, 0.3));\n",
              "      fill: #FFFFFF;\n",
              "    }\n",
              "  </style>\n",
              "\n",
              "      <script>\n",
              "        const buttonEl =\n",
              "          document.querySelector('#df-0db44eab-7557-4fc2-a2b7-e6ab82386b69 button.colab-df-convert');\n",
              "        buttonEl.style.display =\n",
              "          google.colab.kernel.accessAllowed ? 'block' : 'none';\n",
              "\n",
              "        async function convertToInteractive(key) {\n",
              "          const element = document.querySelector('#df-0db44eab-7557-4fc2-a2b7-e6ab82386b69');\n",
              "          const dataTable =\n",
              "            await google.colab.kernel.invokeFunction('convertToInteractive',\n",
              "                                                     [key], {});\n",
              "          if (!dataTable) return;\n",
              "\n",
              "          const docLinkHtml = 'Like what you see? Visit the ' +\n",
              "            '<a target=\"_blank\" href=https://colab.research.google.com/notebooks/data_table.ipynb>data table notebook</a>'\n",
              "            + ' to learn more about interactive tables.';\n",
              "          element.innerHTML = '';\n",
              "          dataTable['output_type'] = 'display_data';\n",
              "          await google.colab.output.renderOutput(dataTable, element);\n",
              "          const docLink = document.createElement('div');\n",
              "          docLink.innerHTML = docLinkHtml;\n",
              "          element.appendChild(docLink);\n",
              "        }\n",
              "      </script>\n",
              "    </div>\n",
              "  </div>\n",
              "  "
            ]
          },
          "metadata": {},
          "execution_count": 20
        }
      ]
    },
    {
      "cell_type": "code",
      "source": [
        "# Filtrer les données\n",
        "\n",
        "# Selectioner selon une modalité d'une variable\n",
        "Jardins = EspacesvertsOk[(EspacesvertsOk[\"categorie\"] == 'Jardin')]\n",
        "\n",
        "# Sélectionner selon deux modalité d'une variable (OR)\n",
        "Squaresetjardins = EspacesvertsOk[(EspacesvertsOk[\"categorie\"] == 'Jardin') | (EspacesvertsOk[\"categorie\"] == 'Square')]\n",
        "\n",
        "# Selectioner selon une valeur numérique\n",
        "Grandespacesverts = EspacesvertsOk[(EspacesvertsOk[\"surface\"] >10000)]\n",
        "\n",
        "#Sélectionner selon les modalités de deux variables (AND)\n",
        "Squares15eme = EspacesvertsOk[(EspacesvertsOk[\"Arrondissement\"] == 75015) & (EspacesvertsOk[\"categorie\"] == 'Square')]\n",
        "\n",
        "# Sélectioner toute les modalités sauf une (clause NOT)\n",
        "Toussaufjardins = EspacesvertsOk[~(EspacesvertsOk[\"categorie\"] == 'Jardin')]"
      ],
      "metadata": {
        "id": "bn6lEo381SVy"
      },
      "execution_count": null,
      "outputs": []
    },
    {
      "cell_type": "code",
      "source": [
        "#Exercice 1\n",
        "#nb espaces verts dans le premier ou le deuxieme arrondissement\n",
        "EV01et02 = EspacesvertsOk[(EspacesvertsOk[\"Arrondissement\"] == '01') | (EspacesvertsOk[\"Arrondissement\"] == '02')]\n",
        "EV01et02.size"
      ],
      "metadata": {
        "colab": {
          "base_uri": "https://localhost:8080/"
        },
        "id": "h3Cazndh16fC",
        "outputId": "f1639afd-8e07-4e2e-dae9-e63c4231eac2"
      },
      "execution_count": null,
      "outputs": [
        {
          "output_type": "execute_result",
          "data": {
            "text/plain": [
              "328"
            ]
          },
          "metadata": {},
          "execution_count": 32
        }
      ]
    },
    {
      "cell_type": "code",
      "source": [
        "#Exercice 2\n",
        "#nb espaces verts dans le premier ou le deuxieme arrondissement qui sont des jardins et des squares\n",
        "EspacesvertsOk[((EspacesvertsOk[\"Arrondissement\"] == '01') | (EspacesvertsOk[\"Arrondissement\"] == '02')) & ((EspacesvertsOk[\"categorie\"] == 'Jardin') | (EspacesvertsOk[\"categorie\"] == 'Square'))].size"
      ],
      "metadata": {
        "colab": {
          "base_uri": "https://localhost:8080/"
        },
        "id": "84zQDDw53mq6",
        "outputId": "69106841-61d1-4b29-c3a6-32886c7b4f3d"
      },
      "execution_count": null,
      "outputs": [
        {
          "output_type": "execute_result",
          "data": {
            "text/plain": [
              "56"
            ]
          },
          "metadata": {},
          "execution_count": 33
        }
      ]
    },
    {
      "cell_type": "code",
      "source": [
        "#Compter le nombre d'enregistrement des sélections\n",
        "\n",
        "Jardins['id'].size"
      ],
      "metadata": {
        "colab": {
          "base_uri": "https://localhost:8080/"
        },
        "id": "xXVlifqB13F6",
        "outputId": "3797d0f1-07fa-49d2-b073-329a25140c4b"
      },
      "execution_count": null,
      "outputs": [
        {
          "output_type": "execute_result",
          "data": {
            "text/plain": [
              "203"
            ]
          },
          "metadata": {},
          "execution_count": 34
        }
      ]
    },
    {
      "cell_type": "code",
      "source": [
        "#Sélectionner selon les modalités de deux variables (AND)\n",
        "Squares15eme = EspacesvertsOk[(EspacesvertsOk[\"Arrondissement\"] == '15') & (EspacesvertsOk[\"categorie\"] == 'Square')]\n",
        "Squares15eme.head()"
      ],
      "metadata": {
        "colab": {
          "base_uri": "https://localhost:8080/",
          "height": 206
        },
        "id": "BbNfDVaH4spD",
        "outputId": "de89d0c7-2516-422b-8924-17eea207e68f"
      },
      "execution_count": null,
      "outputs": [
        {
          "output_type": "execute_result",
          "data": {
            "text/plain": [
              "      id                           nom categorie CodePostal  surface  \\\n",
              "108  352  SQUARE ALLERAY - SAINT-AMAND    Square      75015   3483.0   \n",
              "110  330                 SQUARE VIOLET    Square      75015   9550.0   \n",
              "111  338    SQUARE DU CARDINAL VERDIER    Square      75015   6530.0   \n",
              "299  359           SQUARE PABLO CASALS    Square      75015   5898.0   \n",
              "301  333          SQUARE JEAN CHERIOUX    Square      75015   3980.0   \n",
              "\n",
              "     ouverture                                 concat Arrondissement  \n",
              "108     1975.0  Square - SQUARE ALLERAY - SAINT-AMAND             15  \n",
              "110     1876.0                 Square - SQUARE VIOLET             15  \n",
              "111     1931.0    Square - SQUARE DU CARDINAL VERDIER             15  \n",
              "299     1979.0           Square - SQUARE PABLO CASALS             15  \n",
              "301     1896.0          Square - SQUARE JEAN CHERIOUX             15  "
            ],
            "text/html": [
              "\n",
              "  <div id=\"df-8d11731c-1971-48b5-a49b-f576f4d53aae\">\n",
              "    <div class=\"colab-df-container\">\n",
              "      <div>\n",
              "<style scoped>\n",
              "    .dataframe tbody tr th:only-of-type {\n",
              "        vertical-align: middle;\n",
              "    }\n",
              "\n",
              "    .dataframe tbody tr th {\n",
              "        vertical-align: top;\n",
              "    }\n",
              "\n",
              "    .dataframe thead th {\n",
              "        text-align: right;\n",
              "    }\n",
              "</style>\n",
              "<table border=\"1\" class=\"dataframe\">\n",
              "  <thead>\n",
              "    <tr style=\"text-align: right;\">\n",
              "      <th></th>\n",
              "      <th>id</th>\n",
              "      <th>nom</th>\n",
              "      <th>categorie</th>\n",
              "      <th>CodePostal</th>\n",
              "      <th>surface</th>\n",
              "      <th>ouverture</th>\n",
              "      <th>concat</th>\n",
              "      <th>Arrondissement</th>\n",
              "    </tr>\n",
              "  </thead>\n",
              "  <tbody>\n",
              "    <tr>\n",
              "      <th>108</th>\n",
              "      <td>352</td>\n",
              "      <td>SQUARE ALLERAY - SAINT-AMAND</td>\n",
              "      <td>Square</td>\n",
              "      <td>75015</td>\n",
              "      <td>3483.0</td>\n",
              "      <td>1975.0</td>\n",
              "      <td>Square - SQUARE ALLERAY - SAINT-AMAND</td>\n",
              "      <td>15</td>\n",
              "    </tr>\n",
              "    <tr>\n",
              "      <th>110</th>\n",
              "      <td>330</td>\n",
              "      <td>SQUARE VIOLET</td>\n",
              "      <td>Square</td>\n",
              "      <td>75015</td>\n",
              "      <td>9550.0</td>\n",
              "      <td>1876.0</td>\n",
              "      <td>Square - SQUARE VIOLET</td>\n",
              "      <td>15</td>\n",
              "    </tr>\n",
              "    <tr>\n",
              "      <th>111</th>\n",
              "      <td>338</td>\n",
              "      <td>SQUARE DU CARDINAL VERDIER</td>\n",
              "      <td>Square</td>\n",
              "      <td>75015</td>\n",
              "      <td>6530.0</td>\n",
              "      <td>1931.0</td>\n",
              "      <td>Square - SQUARE DU CARDINAL VERDIER</td>\n",
              "      <td>15</td>\n",
              "    </tr>\n",
              "    <tr>\n",
              "      <th>299</th>\n",
              "      <td>359</td>\n",
              "      <td>SQUARE PABLO CASALS</td>\n",
              "      <td>Square</td>\n",
              "      <td>75015</td>\n",
              "      <td>5898.0</td>\n",
              "      <td>1979.0</td>\n",
              "      <td>Square - SQUARE PABLO CASALS</td>\n",
              "      <td>15</td>\n",
              "    </tr>\n",
              "    <tr>\n",
              "      <th>301</th>\n",
              "      <td>333</td>\n",
              "      <td>SQUARE JEAN CHERIOUX</td>\n",
              "      <td>Square</td>\n",
              "      <td>75015</td>\n",
              "      <td>3980.0</td>\n",
              "      <td>1896.0</td>\n",
              "      <td>Square - SQUARE JEAN CHERIOUX</td>\n",
              "      <td>15</td>\n",
              "    </tr>\n",
              "  </tbody>\n",
              "</table>\n",
              "</div>\n",
              "      <button class=\"colab-df-convert\" onclick=\"convertToInteractive('df-8d11731c-1971-48b5-a49b-f576f4d53aae')\"\n",
              "              title=\"Convert this dataframe to an interactive table.\"\n",
              "              style=\"display:none;\">\n",
              "        \n",
              "  <svg xmlns=\"http://www.w3.org/2000/svg\" height=\"24px\"viewBox=\"0 0 24 24\"\n",
              "       width=\"24px\">\n",
              "    <path d=\"M0 0h24v24H0V0z\" fill=\"none\"/>\n",
              "    <path d=\"M18.56 5.44l.94 2.06.94-2.06 2.06-.94-2.06-.94-.94-2.06-.94 2.06-2.06.94zm-11 1L8.5 8.5l.94-2.06 2.06-.94-2.06-.94L8.5 2.5l-.94 2.06-2.06.94zm10 10l.94 2.06.94-2.06 2.06-.94-2.06-.94-.94-2.06-.94 2.06-2.06.94z\"/><path d=\"M17.41 7.96l-1.37-1.37c-.4-.4-.92-.59-1.43-.59-.52 0-1.04.2-1.43.59L10.3 9.45l-7.72 7.72c-.78.78-.78 2.05 0 2.83L4 21.41c.39.39.9.59 1.41.59.51 0 1.02-.2 1.41-.59l7.78-7.78 2.81-2.81c.8-.78.8-2.07 0-2.86zM5.41 20L4 18.59l7.72-7.72 1.47 1.35L5.41 20z\"/>\n",
              "  </svg>\n",
              "      </button>\n",
              "      \n",
              "  <style>\n",
              "    .colab-df-container {\n",
              "      display:flex;\n",
              "      flex-wrap:wrap;\n",
              "      gap: 12px;\n",
              "    }\n",
              "\n",
              "    .colab-df-convert {\n",
              "      background-color: #E8F0FE;\n",
              "      border: none;\n",
              "      border-radius: 50%;\n",
              "      cursor: pointer;\n",
              "      display: none;\n",
              "      fill: #1967D2;\n",
              "      height: 32px;\n",
              "      padding: 0 0 0 0;\n",
              "      width: 32px;\n",
              "    }\n",
              "\n",
              "    .colab-df-convert:hover {\n",
              "      background-color: #E2EBFA;\n",
              "      box-shadow: 0px 1px 2px rgba(60, 64, 67, 0.3), 0px 1px 3px 1px rgba(60, 64, 67, 0.15);\n",
              "      fill: #174EA6;\n",
              "    }\n",
              "\n",
              "    [theme=dark] .colab-df-convert {\n",
              "      background-color: #3B4455;\n",
              "      fill: #D2E3FC;\n",
              "    }\n",
              "\n",
              "    [theme=dark] .colab-df-convert:hover {\n",
              "      background-color: #434B5C;\n",
              "      box-shadow: 0px 1px 3px 1px rgba(0, 0, 0, 0.15);\n",
              "      filter: drop-shadow(0px 1px 2px rgba(0, 0, 0, 0.3));\n",
              "      fill: #FFFFFF;\n",
              "    }\n",
              "  </style>\n",
              "\n",
              "      <script>\n",
              "        const buttonEl =\n",
              "          document.querySelector('#df-8d11731c-1971-48b5-a49b-f576f4d53aae button.colab-df-convert');\n",
              "        buttonEl.style.display =\n",
              "          google.colab.kernel.accessAllowed ? 'block' : 'none';\n",
              "\n",
              "        async function convertToInteractive(key) {\n",
              "          const element = document.querySelector('#df-8d11731c-1971-48b5-a49b-f576f4d53aae');\n",
              "          const dataTable =\n",
              "            await google.colab.kernel.invokeFunction('convertToInteractive',\n",
              "                                                     [key], {});\n",
              "          if (!dataTable) return;\n",
              "\n",
              "          const docLinkHtml = 'Like what you see? Visit the ' +\n",
              "            '<a target=\"_blank\" href=https://colab.research.google.com/notebooks/data_table.ipynb>data table notebook</a>'\n",
              "            + ' to learn more about interactive tables.';\n",
              "          element.innerHTML = '';\n",
              "          dataTable['output_type'] = 'display_data';\n",
              "          await google.colab.output.renderOutput(dataTable, element);\n",
              "          const docLink = document.createElement('div');\n",
              "          docLink.innerHTML = docLinkHtml;\n",
              "          element.appendChild(docLink);\n",
              "        }\n",
              "      </script>\n",
              "    </div>\n",
              "  </div>\n",
              "  "
            ]
          },
          "metadata": {},
          "execution_count": 35
        }
      ]
    },
    {
      "cell_type": "code",
      "source": [
        "#Regrouper les espaces verts par catégorie avec comptage (GROUP BY)\n",
        "\n",
        "Categorie = EspacesvertsOk[[\"categorie\", \"id\"]].groupby(\"categorie\").count()\n",
        "#Sélectionne les deux champs on groupe par catégorie et on dénombre les id par catégorie\n",
        "Categorie.rename(columns={\"id\": \"Nb\"}, inplace=True)\n",
        "#On renomme id en Nb\n",
        "Categorie = Categorie.sort_values(\"Nb\", ascending=True)\n",
        "#On les range dans l'ordre croissant\n",
        "Categorie.plot(kind=\"barh\")\n",
        "#Création d'un graphe en bar horizontal\n",
        "Categorie.head()\n",
        "#Tjr demander le graph avant la table car sinon que le graphe s'affiche"
      ],
      "metadata": {
        "colab": {
          "base_uri": "https://localhost:8080/",
          "height": 486
        },
        "id": "V6LD98hz4v6B",
        "outputId": "61ec1996-366e-47fa-cb0d-c9fa8dc2764f"
      },
      "execution_count": null,
      "outputs": [
        {
          "output_type": "execute_result",
          "data": {
            "text/plain": [
              "             Nb\n",
              "categorie      \n",
              "Arboretum     1\n",
              "Terre-plein   1\n",
              "Archipel      1\n",
              "Bois          2\n",
              "Ile           2"
            ],
            "text/html": [
              "\n",
              "  <div id=\"df-95aa2ac9-2109-47d3-ae09-4ec8bbc4f947\">\n",
              "    <div class=\"colab-df-container\">\n",
              "      <div>\n",
              "<style scoped>\n",
              "    .dataframe tbody tr th:only-of-type {\n",
              "        vertical-align: middle;\n",
              "    }\n",
              "\n",
              "    .dataframe tbody tr th {\n",
              "        vertical-align: top;\n",
              "    }\n",
              "\n",
              "    .dataframe thead th {\n",
              "        text-align: right;\n",
              "    }\n",
              "</style>\n",
              "<table border=\"1\" class=\"dataframe\">\n",
              "  <thead>\n",
              "    <tr style=\"text-align: right;\">\n",
              "      <th></th>\n",
              "      <th>Nb</th>\n",
              "    </tr>\n",
              "    <tr>\n",
              "      <th>categorie</th>\n",
              "      <th></th>\n",
              "    </tr>\n",
              "  </thead>\n",
              "  <tbody>\n",
              "    <tr>\n",
              "      <th>Arboretum</th>\n",
              "      <td>1</td>\n",
              "    </tr>\n",
              "    <tr>\n",
              "      <th>Terre-plein</th>\n",
              "      <td>1</td>\n",
              "    </tr>\n",
              "    <tr>\n",
              "      <th>Archipel</th>\n",
              "      <td>1</td>\n",
              "    </tr>\n",
              "    <tr>\n",
              "      <th>Bois</th>\n",
              "      <td>2</td>\n",
              "    </tr>\n",
              "    <tr>\n",
              "      <th>Ile</th>\n",
              "      <td>2</td>\n",
              "    </tr>\n",
              "  </tbody>\n",
              "</table>\n",
              "</div>\n",
              "      <button class=\"colab-df-convert\" onclick=\"convertToInteractive('df-95aa2ac9-2109-47d3-ae09-4ec8bbc4f947')\"\n",
              "              title=\"Convert this dataframe to an interactive table.\"\n",
              "              style=\"display:none;\">\n",
              "        \n",
              "  <svg xmlns=\"http://www.w3.org/2000/svg\" height=\"24px\"viewBox=\"0 0 24 24\"\n",
              "       width=\"24px\">\n",
              "    <path d=\"M0 0h24v24H0V0z\" fill=\"none\"/>\n",
              "    <path d=\"M18.56 5.44l.94 2.06.94-2.06 2.06-.94-2.06-.94-.94-2.06-.94 2.06-2.06.94zm-11 1L8.5 8.5l.94-2.06 2.06-.94-2.06-.94L8.5 2.5l-.94 2.06-2.06.94zm10 10l.94 2.06.94-2.06 2.06-.94-2.06-.94-.94-2.06-.94 2.06-2.06.94z\"/><path d=\"M17.41 7.96l-1.37-1.37c-.4-.4-.92-.59-1.43-.59-.52 0-1.04.2-1.43.59L10.3 9.45l-7.72 7.72c-.78.78-.78 2.05 0 2.83L4 21.41c.39.39.9.59 1.41.59.51 0 1.02-.2 1.41-.59l7.78-7.78 2.81-2.81c.8-.78.8-2.07 0-2.86zM5.41 20L4 18.59l7.72-7.72 1.47 1.35L5.41 20z\"/>\n",
              "  </svg>\n",
              "      </button>\n",
              "      \n",
              "  <style>\n",
              "    .colab-df-container {\n",
              "      display:flex;\n",
              "      flex-wrap:wrap;\n",
              "      gap: 12px;\n",
              "    }\n",
              "\n",
              "    .colab-df-convert {\n",
              "      background-color: #E8F0FE;\n",
              "      border: none;\n",
              "      border-radius: 50%;\n",
              "      cursor: pointer;\n",
              "      display: none;\n",
              "      fill: #1967D2;\n",
              "      height: 32px;\n",
              "      padding: 0 0 0 0;\n",
              "      width: 32px;\n",
              "    }\n",
              "\n",
              "    .colab-df-convert:hover {\n",
              "      background-color: #E2EBFA;\n",
              "      box-shadow: 0px 1px 2px rgba(60, 64, 67, 0.3), 0px 1px 3px 1px rgba(60, 64, 67, 0.15);\n",
              "      fill: #174EA6;\n",
              "    }\n",
              "\n",
              "    [theme=dark] .colab-df-convert {\n",
              "      background-color: #3B4455;\n",
              "      fill: #D2E3FC;\n",
              "    }\n",
              "\n",
              "    [theme=dark] .colab-df-convert:hover {\n",
              "      background-color: #434B5C;\n",
              "      box-shadow: 0px 1px 3px 1px rgba(0, 0, 0, 0.15);\n",
              "      filter: drop-shadow(0px 1px 2px rgba(0, 0, 0, 0.3));\n",
              "      fill: #FFFFFF;\n",
              "    }\n",
              "  </style>\n",
              "\n",
              "      <script>\n",
              "        const buttonEl =\n",
              "          document.querySelector('#df-95aa2ac9-2109-47d3-ae09-4ec8bbc4f947 button.colab-df-convert');\n",
              "        buttonEl.style.display =\n",
              "          google.colab.kernel.accessAllowed ? 'block' : 'none';\n",
              "\n",
              "        async function convertToInteractive(key) {\n",
              "          const element = document.querySelector('#df-95aa2ac9-2109-47d3-ae09-4ec8bbc4f947');\n",
              "          const dataTable =\n",
              "            await google.colab.kernel.invokeFunction('convertToInteractive',\n",
              "                                                     [key], {});\n",
              "          if (!dataTable) return;\n",
              "\n",
              "          const docLinkHtml = 'Like what you see? Visit the ' +\n",
              "            '<a target=\"_blank\" href=https://colab.research.google.com/notebooks/data_table.ipynb>data table notebook</a>'\n",
              "            + ' to learn more about interactive tables.';\n",
              "          element.innerHTML = '';\n",
              "          dataTable['output_type'] = 'display_data';\n",
              "          await google.colab.output.renderOutput(dataTable, element);\n",
              "          const docLink = document.createElement('div');\n",
              "          docLink.innerHTML = docLinkHtml;\n",
              "          element.appendChild(docLink);\n",
              "        }\n",
              "      </script>\n",
              "    </div>\n",
              "  </div>\n",
              "  "
            ]
          },
          "metadata": {},
          "execution_count": 41
        },
        {
          "output_type": "display_data",
          "data": {
            "text/plain": [
              "<Figure size 432x288 with 1 Axes>"
            ],
            "image/png": "[encoded data removed]"
          },
          "metadata": {
            "needs_background": "light"
          }
        }
      ]
    },
    {
      "cell_type": "code",
      "source": [
        "# Ne garder que les types principaux\n",
        "\n",
        "Categorie = Categorie[(Categorie[\"Nb\"] >10)]\n",
        "#On garde les categories ou il y a plus de 10 individus\n",
        "Categorie.head()"
      ],
      "metadata": {
        "colab": {
          "base_uri": "https://localhost:8080/",
          "height": 238
        },
        "id": "Kx1l1Y5d53_M",
        "outputId": "cc30a695-683b-44a5-bdb3-50983227a73c"
      },
      "execution_count": null,
      "outputs": [
        {
          "output_type": "execute_result",
          "data": {
            "text/plain": [
              "             Nb\n",
              "categorie      \n",
              "Pelouse      12\n",
              "Parc         19\n",
              "Espace Vert  20\n",
              "Cimetière    21\n",
              "Plate-bande  35"
            ],
            "text/html": [
              "\n",
              "  <div id=\"df-38c78140-3fc8-4c24-8e27-2a298f8a7ecf\">\n",
              "    <div class=\"colab-df-container\">\n",
              "      <div>\n",
              "<style scoped>\n",
              "    .dataframe tbody tr th:only-of-type {\n",
              "        vertical-align: middle;\n",
              "    }\n",
              "\n",
              "    .dataframe tbody tr th {\n",
              "        vertical-align: top;\n",
              "    }\n",
              "\n",
              "    .dataframe thead th {\n",
              "        text-align: right;\n",
              "    }\n",
              "</style>\n",
              "<table border=\"1\" class=\"dataframe\">\n",
              "  <thead>\n",
              "    <tr style=\"text-align: right;\">\n",
              "      <th></th>\n",
              "      <th>Nb</th>\n",
              "    </tr>\n",
              "    <tr>\n",
              "      <th>categorie</th>\n",
              "      <th></th>\n",
              "    </tr>\n",
              "  </thead>\n",
              "  <tbody>\n",
              "    <tr>\n",
              "      <th>Pelouse</th>\n",
              "      <td>12</td>\n",
              "    </tr>\n",
              "    <tr>\n",
              "      <th>Parc</th>\n",
              "      <td>19</td>\n",
              "    </tr>\n",
              "    <tr>\n",
              "      <th>Espace Vert</th>\n",
              "      <td>20</td>\n",
              "    </tr>\n",
              "    <tr>\n",
              "      <th>Cimetière</th>\n",
              "      <td>21</td>\n",
              "    </tr>\n",
              "    <tr>\n",
              "      <th>Plate-bande</th>\n",
              "      <td>35</td>\n",
              "    </tr>\n",
              "  </tbody>\n",
              "</table>\n",
              "</div>\n",
              "      <button class=\"colab-df-convert\" onclick=\"convertToInteractive('df-38c78140-3fc8-4c24-8e27-2a298f8a7ecf')\"\n",
              "              title=\"Convert this dataframe to an interactive table.\"\n",
              "              style=\"display:none;\">\n",
              "        \n",
              "  <svg xmlns=\"http://www.w3.org/2000/svg\" height=\"24px\"viewBox=\"0 0 24 24\"\n",
              "       width=\"24px\">\n",
              "    <path d=\"M0 0h24v24H0V0z\" fill=\"none\"/>\n",
              "    <path d=\"M18.56 5.44l.94 2.06.94-2.06 2.06-.94-2.06-.94-.94-2.06-.94 2.06-2.06.94zm-11 1L8.5 8.5l.94-2.06 2.06-.94-2.06-.94L8.5 2.5l-.94 2.06-2.06.94zm10 10l.94 2.06.94-2.06 2.06-.94-2.06-.94-.94-2.06-.94 2.06-2.06.94z\"/><path d=\"M17.41 7.96l-1.37-1.37c-.4-.4-.92-.59-1.43-.59-.52 0-1.04.2-1.43.59L10.3 9.45l-7.72 7.72c-.78.78-.78 2.05 0 2.83L4 21.41c.39.39.9.59 1.41.59.51 0 1.02-.2 1.41-.59l7.78-7.78 2.81-2.81c.8-.78.8-2.07 0-2.86zM5.41 20L4 18.59l7.72-7.72 1.47 1.35L5.41 20z\"/>\n",
              "  </svg>\n",
              "      </button>\n",
              "      \n",
              "  <style>\n",
              "    .colab-df-container {\n",
              "      display:flex;\n",
              "      flex-wrap:wrap;\n",
              "      gap: 12px;\n",
              "    }\n",
              "\n",
              "    .colab-df-convert {\n",
              "      background-color: #E8F0FE;\n",
              "      border: none;\n",
              "      border-radius: 50%;\n",
              "      cursor: pointer;\n",
              "      display: none;\n",
              "      fill: #1967D2;\n",
              "      height: 32px;\n",
              "      padding: 0 0 0 0;\n",
              "      width: 32px;\n",
              "    }\n",
              "\n",
              "    .colab-df-convert:hover {\n",
              "      background-color: #E2EBFA;\n",
              "      box-shadow: 0px 1px 2px rgba(60, 64, 67, 0.3), 0px 1px 3px 1px rgba(60, 64, 67, 0.15);\n",
              "      fill: #174EA6;\n",
              "    }\n",
              "\n",
              "    [theme=dark] .colab-df-convert {\n",
              "      background-color: #3B4455;\n",
              "      fill: #D2E3FC;\n",
              "    }\n",
              "\n",
              "    [theme=dark] .colab-df-convert:hover {\n",
              "      background-color: #434B5C;\n",
              "      box-shadow: 0px 1px 3px 1px rgba(0, 0, 0, 0.15);\n",
              "      filter: drop-shadow(0px 1px 2px rgba(0, 0, 0, 0.3));\n",
              "      fill: #FFFFFF;\n",
              "    }\n",
              "  </style>\n",
              "\n",
              "      <script>\n",
              "        const buttonEl =\n",
              "          document.querySelector('#df-38c78140-3fc8-4c24-8e27-2a298f8a7ecf button.colab-df-convert');\n",
              "        buttonEl.style.display =\n",
              "          google.colab.kernel.accessAllowed ? 'block' : 'none';\n",
              "\n",
              "        async function convertToInteractive(key) {\n",
              "          const element = document.querySelector('#df-38c78140-3fc8-4c24-8e27-2a298f8a7ecf');\n",
              "          const dataTable =\n",
              "            await google.colab.kernel.invokeFunction('convertToInteractive',\n",
              "                                                     [key], {});\n",
              "          if (!dataTable) return;\n",
              "\n",
              "          const docLinkHtml = 'Like what you see? Visit the ' +\n",
              "            '<a target=\"_blank\" href=https://colab.research.google.com/notebooks/data_table.ipynb>data table notebook</a>'\n",
              "            + ' to learn more about interactive tables.';\n",
              "          element.innerHTML = '';\n",
              "          dataTable['output_type'] = 'display_data';\n",
              "          await google.colab.output.renderOutput(dataTable, element);\n",
              "          const docLink = document.createElement('div');\n",
              "          docLink.innerHTML = docLinkHtml;\n",
              "          element.appendChild(docLink);\n",
              "        }\n",
              "      </script>\n",
              "    </div>\n",
              "  </div>\n",
              "  "
            ]
          },
          "metadata": {},
          "execution_count": 42
        }
      ]
    },
    {
      "cell_type": "code",
      "source": [
        "# Diagramme circulaire des types d'espaces verts\n",
        "\n",
        "Categorie.plot.pie(y='Nb', figsize=(10, 10), legend=False)\n",
        "plt.title('Répartition selon le type de parc')\n",
        "plt.show()"
      ],
      "metadata": {
        "colab": {
          "base_uri": "https://localhost:8080/",
          "height": 591
        },
        "id": "g8EBUPhe61oe",
        "outputId": "0ffad5f9-a4f9-4ba8-ad86-abdf69222964"
      },
      "execution_count": null,
      "outputs": [
        {
          "output_type": "display_data",
          "data": {
            "text/plain": [
              "<Figure size 720x720 with 1 Axes>"
            ],
            "image/png": "[encoded data removed]"
          },
          "metadata": {}
        }
      ]
    },
    {
      "cell_type": "markdown",
      "source": [
        "# Aller plus loin dans les graphiques\n",
        "\n",
        "[Exemples de graphiques](https://pandas.pydata.org/pandas-docs/stable/user_guide/visualization.html)\n",
        "\n",
        "[Documentation](https://pandas.pydata.org/docs/reference/api/pandas.DataFrame.plot.html)\n",
        "\n",
        "[Gallery](https://www.python-graph-gallery.com/)"
      ],
      "metadata": {
        "id": "cePqKXkwAkmW"
      }
    },
    {
      "cell_type": "code",
      "source": [
        "#Diagramme des catégories en barres\n",
        "\n",
        "Categorie = Categorie.sort_values(\"Nb\", ascending=True)\n",
        "Categorie.plot(figsize =(14,5), kind=\"bar\", color = \"blue\")\n"
      ],
      "metadata": {
        "colab": {
          "base_uri": "https://localhost:8080/",
          "height": 426
        },
        "id": "owlxTvDUAP_1",
        "outputId": "84a1e4fd-314a-4a98-a052-73d46aab41e3"
      },
      "execution_count": null,
      "outputs": [
        {
          "output_type": "execute_result",
          "data": {
            "text/plain": [
              "<AxesSubplot:xlabel='categorie'>"
            ]
          },
          "metadata": {},
          "execution_count": 46
        },
        {
          "output_type": "display_data",
          "data": {
            "text/plain": [
              "<Figure size 1008x360 with 1 Axes>"
            ],
            "image/png": "[encoded data removed]"
          },
          "metadata": {
            "needs_background": "light"
          }
        }
      ]
    },
    {
      "cell_type": "code",
      "source": [
        "#Ne garder que les arrondissement de Paris\n",
        "\n",
        "EspacevertsParis = EspacesvertsOk[(EspacesvertsOk[\"CodePostal\"].str.contains(\"75\"))]\n",
        "#Equivalent du like dans le SQL\n",
        "EspacevertsParis = EspacevertsParis[(EspacevertsParis[\"surface\"] >1)]\n",
        "# Ne garder que les types supérieurs à 1\n",
        "EspacevertsParis.head()\n",
        "EspacevertsParis[\"id\"].size #2232"
      ],
      "metadata": {
        "colab": {
          "base_uri": "https://localhost:8080/"
        },
        "id": "5S7Q-413BEFo",
        "outputId": "9dbb75d7-aea3-4ecc-bf53-c49296d58018"
      },
      "execution_count": null,
      "outputs": [
        {
          "output_type": "execute_result",
          "data": {
            "text/plain": [
              "1687"
            ]
          },
          "metadata": {},
          "execution_count": 58
        }
      ]
    },
    {
      "cell_type": "code",
      "source": [],
      "metadata": {
        "id": "pUqADRdTDAnn"
      },
      "execution_count": null,
      "outputs": []
    },
    {
      "cell_type": "code",
      "source": [
        "# Calculer la surface moyenne des squares\n",
        "\n",
        "Squares = EspacesvertsOk[(EspacesvertsOk[\"categorie\"] == 'Square')]\n",
        "#On isole les squares \n",
        "Squares[\"surface\"].mean()\n",
        "#On calcule la moyenne des surfaces"
      ],
      "metadata": {
        "colab": {
          "base_uri": "https://localhost:8080/"
        },
        "id": "VBxWfvV_B-02",
        "outputId": "75c7889a-f24d-4eb3-ac44-2f2621c54f6f"
      },
      "execution_count": null,
      "outputs": [
        {
          "output_type": "execute_result",
          "data": {
            "text/plain": [
              "4193.604810996563"
            ]
          },
          "metadata": {},
          "execution_count": 59
        }
      ]
    },
    {
      "cell_type": "code",
      "source": [
        "# Calculer la surface moyenne des jardins\n",
        "\n",
        "Jardins = EspacesvertsOk[(EspacesvertsOk[\"categorie\"] == 'Jardin')]\n",
        "Jardins[\"surface\"].mean()"
      ],
      "metadata": {
        "colab": {
          "base_uri": "https://localhost:8080/"
        },
        "id": "TmxG1rS2CO9F",
        "outputId": "d0b9e14e-7c6a-4c10-8600-c70f4edbc3ab"
      },
      "execution_count": null,
      "outputs": [
        {
          "output_type": "execute_result",
          "data": {
            "text/plain": [
              "8805.366834170854"
            ]
          },
          "metadata": {},
          "execution_count": 60
        }
      ]
    },
    {
      "cell_type": "code",
      "source": [
        "# Calculer la surface moyenne de chaque type d'espace vert\n",
        "\n",
        "SurfaceType = EspacevertsParis[[\"categorie\", \"surface\"]].groupby(\"categorie\").mean()\n",
        "SurfaceType = SurfaceType.sort_values(\"surface\", ascending=True)\n",
        "#moyenne des surfaces par catégorie\n",
        "SurfaceType.plot(kind=\"barh\", color = \"green\")\n",
        "SurfaceType.head()"
      ],
      "metadata": {
        "colab": {
          "base_uri": "https://localhost:8080/",
          "height": 486
        },
        "id": "nngBalH2CUbu",
        "outputId": "cac6de68-db7e-482c-bbc8-cf8ca70c9091"
      },
      "execution_count": null,
      "outputs": [
        {
          "output_type": "execute_result",
          "data": {
            "text/plain": [
              "                     surface\n",
              "categorie                   \n",
              "Murs vegetalises   91.335484\n",
              "Jardiniere        282.669960\n",
              "Decoration        315.975309\n",
              "Jardin partage    364.354167\n",
              "Jardinet          627.188119"
            ],
            "text/html": [
              "\n",
              "  <div id=\"df-c46ac8ef-dd1e-4f0c-b20f-0be598a640fd\">\n",
              "    <div class=\"colab-df-container\">\n",
              "      <div>\n",
              "<style scoped>\n",
              "    .dataframe tbody tr th:only-of-type {\n",
              "        vertical-align: middle;\n",
              "    }\n",
              "\n",
              "    .dataframe tbody tr th {\n",
              "        vertical-align: top;\n",
              "    }\n",
              "\n",
              "    .dataframe thead th {\n",
              "        text-align: right;\n",
              "    }\n",
              "</style>\n",
              "<table border=\"1\" class=\"dataframe\">\n",
              "  <thead>\n",
              "    <tr style=\"text-align: right;\">\n",
              "      <th></th>\n",
              "      <th>surface</th>\n",
              "    </tr>\n",
              "    <tr>\n",
              "      <th>categorie</th>\n",
              "      <th></th>\n",
              "    </tr>\n",
              "  </thead>\n",
              "  <tbody>\n",
              "    <tr>\n",
              "      <th>Murs vegetalises</th>\n",
              "      <td>91.335484</td>\n",
              "    </tr>\n",
              "    <tr>\n",
              "      <th>Jardiniere</th>\n",
              "      <td>282.669960</td>\n",
              "    </tr>\n",
              "    <tr>\n",
              "      <th>Decoration</th>\n",
              "      <td>315.975309</td>\n",
              "    </tr>\n",
              "    <tr>\n",
              "      <th>Jardin partage</th>\n",
              "      <td>364.354167</td>\n",
              "    </tr>\n",
              "    <tr>\n",
              "      <th>Jardinet</th>\n",
              "      <td>627.188119</td>\n",
              "    </tr>\n",
              "  </tbody>\n",
              "</table>\n",
              "</div>\n",
              "      <button class=\"colab-df-convert\" onclick=\"convertToInteractive('df-c46ac8ef-dd1e-4f0c-b20f-0be598a640fd')\"\n",
              "              title=\"Convert this dataframe to an interactive table.\"\n",
              "              style=\"display:none;\">\n",
              "        \n",
              "  <svg xmlns=\"http://www.w3.org/2000/svg\" height=\"24px\"viewBox=\"0 0 24 24\"\n",
              "       width=\"24px\">\n",
              "    <path d=\"M0 0h24v24H0V0z\" fill=\"none\"/>\n",
              "    <path d=\"M18.56 5.44l.94 2.06.94-2.06 2.06-.94-2.06-.94-.94-2.06-.94 2.06-2.06.94zm-11 1L8.5 8.5l.94-2.06 2.06-.94-2.06-.94L8.5 2.5l-.94 2.06-2.06.94zm10 10l.94 2.06.94-2.06 2.06-.94-2.06-.94-.94-2.06-.94 2.06-2.06.94z\"/><path d=\"M17.41 7.96l-1.37-1.37c-.4-.4-.92-.59-1.43-.59-.52 0-1.04.2-1.43.59L10.3 9.45l-7.72 7.72c-.78.78-.78 2.05 0 2.83L4 21.41c.39.39.9.59 1.41.59.51 0 1.02-.2 1.41-.59l7.78-7.78 2.81-2.81c.8-.78.8-2.07 0-2.86zM5.41 20L4 18.59l7.72-7.72 1.47 1.35L5.41 20z\"/>\n",
              "  </svg>\n",
              "      </button>\n",
              "      \n",
              "  <style>\n",
              "    .colab-df-container {\n",
              "      display:flex;\n",
              "      flex-wrap:wrap;\n",
              "      gap: 12px;\n",
              "    }\n",
              "\n",
              "    .colab-df-convert {\n",
              "      background-color: #E8F0FE;\n",
              "      border: none;\n",
              "      border-radius: 50%;\n",
              "      cursor: pointer;\n",
              "      display: none;\n",
              "      fill: #1967D2;\n",
              "      height: 32px;\n",
              "      padding: 0 0 0 0;\n",
              "      width: 32px;\n",
              "    }\n",
              "\n",
              "    .colab-df-convert:hover {\n",
              "      background-color: #E2EBFA;\n",
              "      box-shadow: 0px 1px 2px rgba(60, 64, 67, 0.3), 0px 1px 3px 1px rgba(60, 64, 67, 0.15);\n",
              "      fill: #174EA6;\n",
              "    }\n",
              "\n",
              "    [theme=dark] .colab-df-convert {\n",
              "      background-color: #3B4455;\n",
              "      fill: #D2E3FC;\n",
              "    }\n",
              "\n",
              "    [theme=dark] .colab-df-convert:hover {\n",
              "      background-color: #434B5C;\n",
              "      box-shadow: 0px 1px 3px 1px rgba(0, 0, 0, 0.15);\n",
              "      filter: drop-shadow(0px 1px 2px rgba(0, 0, 0, 0.3));\n",
              "      fill: #FFFFFF;\n",
              "    }\n",
              "  </style>\n",
              "\n",
              "      <script>\n",
              "        const buttonEl =\n",
              "          document.querySelector('#df-c46ac8ef-dd1e-4f0c-b20f-0be598a640fd button.colab-df-convert');\n",
              "        buttonEl.style.display =\n",
              "          google.colab.kernel.accessAllowed ? 'block' : 'none';\n",
              "\n",
              "        async function convertToInteractive(key) {\n",
              "          const element = document.querySelector('#df-c46ac8ef-dd1e-4f0c-b20f-0be598a640fd');\n",
              "          const dataTable =\n",
              "            await google.colab.kernel.invokeFunction('convertToInteractive',\n",
              "                                                     [key], {});\n",
              "          if (!dataTable) return;\n",
              "\n",
              "          const docLinkHtml = 'Like what you see? Visit the ' +\n",
              "            '<a target=\"_blank\" href=https://colab.research.google.com/notebooks/data_table.ipynb>data table notebook</a>'\n",
              "            + ' to learn more about interactive tables.';\n",
              "          element.innerHTML = '';\n",
              "          dataTable['output_type'] = 'display_data';\n",
              "          await google.colab.output.renderOutput(dataTable, element);\n",
              "          const docLink = document.createElement('div');\n",
              "          docLink.innerHTML = docLinkHtml;\n",
              "          element.appendChild(docLink);\n",
              "        }\n",
              "      </script>\n",
              "    </div>\n",
              "  </div>\n",
              "  "
            ]
          },
          "metadata": {},
          "execution_count": 63
        },
        {
          "output_type": "display_data",
          "data": {
            "text/plain": [
              "<Figure size 432x288 with 1 Axes>"
            ],
            "image/png": "[encoded data removed]"
          },
          "metadata": {
            "needs_background": "light"
          }
        }
      ]
    },
    {
      "cell_type": "code",
      "source": [
        "#Calculer la superficie des espaces vert par arrondissement (agrégation statistique)\n",
        "\n",
        "SurfaceEspacevertARDT = EspacevertsParis[[\"Arrondissement\", \"surface\"]].groupby(\"Arrondissement\").sum()\n",
        "SurfaceEspacevertARDT = SurfaceEspacevertARDT.sort_values(\"surface\", ascending=True)\n",
        "SurfaceEspacevertARDT.plot(figsize =(15,10), kind=\"barh\", color= \"green\", width=0.7)\n",
        "plt.title(\"Surface d'espaces verts par arrondissement\")\n",
        "plt.xlabel(\"Arrondissement\")\n",
        "plt.ylabel(\"Surface espaces verts\")"
      ],
      "metadata": {
        "colab": {
          "base_uri": "https://localhost:8080/",
          "height": 639
        },
        "id": "l0fVzWgPFILJ",
        "outputId": "aacd8a37-94bb-4389-ac30-0b63c7cf14d4"
      },
      "execution_count": null,
      "outputs": [
        {
          "output_type": "execute_result",
          "data": {
            "text/plain": [
              "Text(0, 0.5, 'Surface espaces verts')"
            ]
          },
          "metadata": {},
          "execution_count": 67
        },
        {
          "output_type": "display_data",
          "data": {
            "text/plain": [
              "<Figure size 1080x720 with 1 Axes>"
            ],
            "image/png": "[encoded data removed]"
          },
          "metadata": {
            "needs_background": "light"
          }
        }
      ]
    },
    {
      "cell_type": "markdown",
      "source": [
        "# Exercices autour du jeu de données des arbres\n",
        "\n",
        "[Opendata des arbres de Paris](https://opendata.paris.fr/explore/dataset/les-arbres/information/?disjunctive.typeemplacement&disjunctive.arrondissement&disjunctive.libellefrancais&disjunctive.genre&disjunctive.espece&disjunctive.varieteoucultivar&disjunctive.stadedeveloppement&disjunctive.remarquable)\n",
        "\n",
        "* Importer le dataset des arbres\n",
        "* Compter le nombre d'abres\n",
        "* Restructurer le jeu de données (sélection de variables et renommage) > \"idbase\", \"domanialite\", \"arrondissement\", \"libellefrancais\", \"hauteurenm\", \"geo_point_2d\"\n",
        "* Proposer une visualisation du nb d'arbres par arrondissement\n",
        "* Proposer une visualisation du nb d'arbres par domanialité\n",
        "* Proposer une visualisation de la hauteur moyenne par type\n",
        "* Proposer une visualisation de la hauteur moyenne par arrondissement\n",
        "* Créer un géodataframe\n",
        "* Faire une carte avec uniquement les chênes, les erables et les frênes"
      ],
      "metadata": {
        "id": "XNvkRAKiGT96"
      }
    },
    {
      "cell_type": "code",
      "source": [
        "#Téléchargement des données \n",
        "!wget -O Arbres.csv https://opendata.paris.fr/api/explore/v2.1/catalog/datasets/les-arbres/exports/csv?lang=fr&timezone=Europe%2FBerlin&use_labels=true&delimiter=%3B"
      ],
      "metadata": {
        "id": "2BO2dEkFG47S"
      },
      "execution_count": null,
      "outputs": []
    },
    {
      "cell_type": "code",
      "source": [
        "#Importer CSV to dataframe\n",
        "\n",
        "arbres = pd.read_csv(\"Arbres.csv\", sep=';')\n",
        "arbres.head()"
      ],
      "metadata": {
        "colab": {
          "base_uri": "https://localhost:8080/",
          "height": 548
        },
        "id": "AMUoJH2bHWYR",
        "outputId": "a6c4160d-cd23-4ebd-8c3d-023165476e44"
      },
      "execution_count": null,
      "outputs": [
        {
          "output_type": "execute_result",
          "data": {
            "text/plain": [
              "   idbase typeemplacement domanialite   arrondissement  \\\n",
              "0  205652           Arbre  Alignement   PARIS 8E ARRDT   \n",
              "1  240414           Arbre      Jardin  PARIS 14E ARRDT   \n",
              "2  111500           Arbre      Jardin  PARIS 17E ARRDT   \n",
              "3  135994           Arbre      Jardin  PARIS 15E ARRDT   \n",
              "4  139206           Arbre      Jardin  PARIS 16E ARRDT   \n",
              "\n",
              "        complementadresse  numero  \\\n",
              "0                     NaN     NaN   \n",
              "1                     NaN     NaN   \n",
              "2  Aire de Jeu des Grands     NaN   \n",
              "3                     NaN     NaN   \n",
              "4                     NaN     NaN   \n",
              "\n",
              "                                             adresse idemplacement  \\\n",
              "0                                   COURS ALBERT 1ER     000402005   \n",
              "1  JARDIN DE LA PLACE GILBERT PERROY / 2 PLACE GI...     000107001   \n",
              "2  PARC CLICHY BATIGNOLLES MARTIN LUTHER KING / 1...     F00207004   \n",
              "3       SQUARE JEAN COCTEAU / 122 AVENUE FELIX FAURE     000107012   \n",
              "4  JARDIN DE LA PLACE DU MARECHAL DELATTRE DE TAS...     000101089   \n",
              "\n",
              "  libellefrancais      genre          espece varieteoucultivar  \\\n",
              "0      Marronnier   Aesculus   hippocastanum               NaN   \n",
              "1            Orme      Ulmus          n. sp.               NaN   \n",
              "2    Arbre à miel  Tetradium       daniellii               NaN   \n",
              "3          Erable       Acer  pseudoplatanus               NaN   \n",
              "4         Sorbier     Sorbus          decora               NaN   \n",
              "\n",
              "   circonferenceencm  hauteurenm   stadedeveloppement remarquable  \\\n",
              "0                106          10               Adulte         NON   \n",
              "1                140          10  Jeune (arbre)Adulte         NON   \n",
              "2                 55           5  Jeune (arbre)Adulte         NON   \n",
              "3                 98           0                  NaN         NON   \n",
              "4                 40           3        Jeune (arbre)         NON   \n",
              "\n",
              "                             geo_point_2d  \n",
              "0  48.864756348264784, 2.3053579684725705  \n",
              "1    48.83220295634672, 2.325645809135856  \n",
              "2   48.89070845363805, 2.3145228803252005  \n",
              "3   48.83888439749845, 2.2806139896705675  \n",
              "4    48.87130382516166, 2.275388784027277  "
            ],
            "text/html": [
              "\n",
              "  <div id=\"df-3e0c30be-75bd-40fc-8071-824d1d765e09\">\n",
              "    <div class=\"colab-df-container\">\n",
              "      <div>\n",
              "<style scoped>\n",
              "    .dataframe tbody tr th:only-of-type {\n",
              "        vertical-align: middle;\n",
              "    }\n",
              "\n",
              "    .dataframe tbody tr th {\n",
              "        vertical-align: top;\n",
              "    }\n",
              "\n",
              "    .dataframe thead th {\n",
              "        text-align: right;\n",
              "    }\n",
              "</style>\n",
              "<table border=\"1\" class=\"dataframe\">\n",
              "  <thead>\n",
              "    <tr style=\"text-align: right;\">\n",
              "      <th></th>\n",
              "      <th>idbase</th>\n",
              "      <th>typeemplacement</th>\n",
              "      <th>domanialite</th>\n",
              "      <th>arrondissement</th>\n",
              "      <th>complementadresse</th>\n",
              "      <th>numero</th>\n",
              "      <th>adresse</th>\n",
              "      <th>idemplacement</th>\n",
              "      <th>libellefrancais</th>\n",
              "      <th>genre</th>\n",
              "      <th>espece</th>\n",
              "      <th>varieteoucultivar</th>\n",
              "      <th>circonferenceencm</th>\n",
              "      <th>hauteurenm</th>\n",
              "      <th>stadedeveloppement</th>\n",
              "      <th>remarquable</th>\n",
              "      <th>geo_point_2d</th>\n",
              "    </tr>\n",
              "  </thead>\n",
              "  <tbody>\n",
              "    <tr>\n",
              "      <th>0</th>\n",
              "      <td>205652</td>\n",
              "      <td>Arbre</td>\n",
              "      <td>Alignement</td>\n",
              "      <td>PARIS 8E ARRDT</td>\n",
              "      <td>NaN</td>\n",
              "      <td>NaN</td>\n",
              "      <td>COURS ALBERT 1ER</td>\n",
              "      <td>000402005</td>\n",
              "      <td>Marronnier</td>\n",
              "      <td>Aesculus</td>\n",
              "      <td>hippocastanum</td>\n",
              "      <td>NaN</td>\n",
              "      <td>106</td>\n",
              "      <td>10</td>\n",
              "      <td>Adulte</td>\n",
              "      <td>NON</td>\n",
              "      <td>48.864756348264784, 2.3053579684725705</td>\n",
              "    </tr>\n",
              "    <tr>\n",
              "      <th>1</th>\n",
              "      <td>240414</td>\n",
              "      <td>Arbre</td>\n",
              "      <td>Jardin</td>\n",
              "      <td>PARIS 14E ARRDT</td>\n",
              "      <td>NaN</td>\n",
              "      <td>NaN</td>\n",
              "      <td>JARDIN DE LA PLACE GILBERT PERROY / 2 PLACE GI...</td>\n",
              "      <td>000107001</td>\n",
              "      <td>Orme</td>\n",
              "      <td>Ulmus</td>\n",
              "      <td>n. sp.</td>\n",
              "      <td>NaN</td>\n",
              "      <td>140</td>\n",
              "      <td>10</td>\n",
              "      <td>Jeune (arbre)Adulte</td>\n",
              "      <td>NON</td>\n",
              "      <td>48.83220295634672, 2.325645809135856</td>\n",
              "    </tr>\n",
              "    <tr>\n",
              "      <th>2</th>\n",
              "      <td>111500</td>\n",
              "      <td>Arbre</td>\n",
              "      <td>Jardin</td>\n",
              "      <td>PARIS 17E ARRDT</td>\n",
              "      <td>Aire de Jeu des Grands</td>\n",
              "      <td>NaN</td>\n",
              "      <td>PARC CLICHY BATIGNOLLES MARTIN LUTHER KING / 1...</td>\n",
              "      <td>F00207004</td>\n",
              "      <td>Arbre à miel</td>\n",
              "      <td>Tetradium</td>\n",
              "      <td>daniellii</td>\n",
              "      <td>NaN</td>\n",
              "      <td>55</td>\n",
              "      <td>5</td>\n",
              "      <td>Jeune (arbre)Adulte</td>\n",
              "      <td>NON</td>\n",
              "      <td>48.89070845363805, 2.3145228803252005</td>\n",
              "    </tr>\n",
              "    <tr>\n",
              "      <th>3</th>\n",
              "      <td>135994</td>\n",
              "      <td>Arbre</td>\n",
              "      <td>Jardin</td>\n",
              "      <td>PARIS 15E ARRDT</td>\n",
              "      <td>NaN</td>\n",
              "      <td>NaN</td>\n",
              "      <td>SQUARE JEAN COCTEAU / 122 AVENUE FELIX FAURE</td>\n",
              "      <td>000107012</td>\n",
              "      <td>Erable</td>\n",
              "      <td>Acer</td>\n",
              "      <td>pseudoplatanus</td>\n",
              "      <td>NaN</td>\n",
              "      <td>98</td>\n",
              "      <td>0</td>\n",
              "      <td>NaN</td>\n",
              "      <td>NON</td>\n",
              "      <td>48.83888439749845, 2.2806139896705675</td>\n",
              "    </tr>\n",
              "    <tr>\n",
              "      <th>4</th>\n",
              "      <td>139206</td>\n",
              "      <td>Arbre</td>\n",
              "      <td>Jardin</td>\n",
              "      <td>PARIS 16E ARRDT</td>\n",
              "      <td>NaN</td>\n",
              "      <td>NaN</td>\n",
              "      <td>JARDIN DE LA PLACE DU MARECHAL DELATTRE DE TAS...</td>\n",
              "      <td>000101089</td>\n",
              "      <td>Sorbier</td>\n",
              "      <td>Sorbus</td>\n",
              "      <td>decora</td>\n",
              "      <td>NaN</td>\n",
              "      <td>40</td>\n",
              "      <td>3</td>\n",
              "      <td>Jeune (arbre)</td>\n",
              "      <td>NON</td>\n",
              "      <td>48.87130382516166, 2.275388784027277</td>\n",
              "    </tr>\n",
              "  </tbody>\n",
              "</table>\n",
              "</div>\n",
              "      <button class=\"colab-df-convert\" onclick=\"convertToInteractive('df-3e0c30be-75bd-40fc-8071-824d1d765e09')\"\n",
              "              title=\"Convert this dataframe to an interactive table.\"\n",
              "              style=\"display:none;\">\n",
              "        \n",
              "  <svg xmlns=\"http://www.w3.org/2000/svg\" height=\"24px\"viewBox=\"0 0 24 24\"\n",
              "       width=\"24px\">\n",
              "    <path d=\"M0 0h24v24H0V0z\" fill=\"none\"/>\n",
              "    <path d=\"M18.56 5.44l.94 2.06.94-2.06 2.06-.94-2.06-.94-.94-2.06-.94 2.06-2.06.94zm-11 1L8.5 8.5l.94-2.06 2.06-.94-2.06-.94L8.5 2.5l-.94 2.06-2.06.94zm10 10l.94 2.06.94-2.06 2.06-.94-2.06-.94-.94-2.06-.94 2.06-2.06.94z\"/><path d=\"M17.41 7.96l-1.37-1.37c-.4-.4-.92-.59-1.43-.59-.52 0-1.04.2-1.43.59L10.3 9.45l-7.72 7.72c-.78.78-.78 2.05 0 2.83L4 21.41c.39.39.9.59 1.41.59.51 0 1.02-.2 1.41-.59l7.78-7.78 2.81-2.81c.8-.78.8-2.07 0-2.86zM5.41 20L4 18.59l7.72-7.72 1.47 1.35L5.41 20z\"/>\n",
              "  </svg>\n",
              "      </button>\n",
              "      \n",
              "  <style>\n",
              "    .colab-df-container {\n",
              "      display:flex;\n",
              "      flex-wrap:wrap;\n",
              "      gap: 12px;\n",
              "    }\n",
              "\n",
              "    .colab-df-convert {\n",
              "      background-color: #E8F0FE;\n",
              "      border: none;\n",
              "      border-radius: 50%;\n",
              "      cursor: pointer;\n",
              "      display: none;\n",
              "      fill: #1967D2;\n",
              "      height: 32px;\n",
              "      padding: 0 0 0 0;\n",
              "      width: 32px;\n",
              "    }\n",
              "\n",
              "    .colab-df-convert:hover {\n",
              "      background-color: #E2EBFA;\n",
              "      box-shadow: 0px 1px 2px rgba(60, 64, 67, 0.3), 0px 1px 3px 1px rgba(60, 64, 67, 0.15);\n",
              "      fill: #174EA6;\n",
              "    }\n",
              "\n",
              "    [theme=dark] .colab-df-convert {\n",
              "      background-color: #3B4455;\n",
              "      fill: #D2E3FC;\n",
              "    }\n",
              "\n",
              "    [theme=dark] .colab-df-convert:hover {\n",
              "      background-color: #434B5C;\n",
              "      box-shadow: 0px 1px 3px 1px rgba(0, 0, 0, 0.15);\n",
              "      filter: drop-shadow(0px 1px 2px rgba(0, 0, 0, 0.3));\n",
              "      fill: #FFFFFF;\n",
              "    }\n",
              "  </style>\n",
              "\n",
              "      <script>\n",
              "        const buttonEl =\n",
              "          document.querySelector('#df-3e0c30be-75bd-40fc-8071-824d1d765e09 button.colab-df-convert');\n",
              "        buttonEl.style.display =\n",
              "          google.colab.kernel.accessAllowed ? 'block' : 'none';\n",
              "\n",
              "        async function convertToInteractive(key) {\n",
              "          const element = document.querySelector('#df-3e0c30be-75bd-40fc-8071-824d1d765e09');\n",
              "          const dataTable =\n",
              "            await google.colab.kernel.invokeFunction('convertToInteractive',\n",
              "                                                     [key], {});\n",
              "          if (!dataTable) return;\n",
              "\n",
              "          const docLinkHtml = 'Like what you see? Visit the ' +\n",
              "            '<a target=\"_blank\" href=https://colab.research.google.com/notebooks/data_table.ipynb>data table notebook</a>'\n",
              "            + ' to learn more about interactive tables.';\n",
              "          element.innerHTML = '';\n",
              "          dataTable['output_type'] = 'display_data';\n",
              "          await google.colab.output.renderOutput(dataTable, element);\n",
              "          const docLink = document.createElement('div');\n",
              "          docLink.innerHTML = docLinkHtml;\n",
              "          element.appendChild(docLink);\n",
              "        }\n",
              "      </script>\n",
              "    </div>\n",
              "  </div>\n",
              "  "
            ]
          },
          "metadata": {},
          "execution_count": 69
        }
      ]
    },
    {
      "cell_type": "code",
      "source": [
        "#Dénombrer le nombre d'arbres \n",
        "arbres['domanialite'].size"
      ],
      "metadata": {
        "colab": {
          "base_uri": "https://localhost:8080/"
        },
        "id": "zv_G_ax6HpVq",
        "outputId": "4e4777c6-18be-4265-a8af-8637202baf98"
      },
      "execution_count": null,
      "outputs": [
        {
          "output_type": "execute_result",
          "data": {
            "text/plain": [
              "207049"
            ]
          },
          "metadata": {},
          "execution_count": 70
        }
      ]
    },
    {
      "cell_type": "code",
      "source": [
        "#Réorganiser la table \n",
        "arbresok = arbres[[\"idbase\", \"domanialite\", \"arrondissement\", \"libellefrancais\", \"hauteurenm\", \"circonferenceencm\", \"remarquable\", \"geo_point_2d\"]]\n",
        "arbresok.head()"
      ],
      "metadata": {
        "colab": {
          "base_uri": "https://localhost:8080/",
          "height": 206
        },
        "id": "Ad1TBhT_Hzo5",
        "outputId": "d5a36594-fec5-47a7-b47c-34529d8f9099"
      },
      "execution_count": null,
      "outputs": [
        {
          "output_type": "execute_result",
          "data": {
            "text/plain": [
              "   idbase domanialite   arrondissement libellefrancais  hauteurenm  \\\n",
              "0  205652  Alignement   PARIS 8E ARRDT      Marronnier          10   \n",
              "1  240414      Jardin  PARIS 14E ARRDT            Orme          10   \n",
              "2  111500      Jardin  PARIS 17E ARRDT    Arbre à miel           5   \n",
              "3  135994      Jardin  PARIS 15E ARRDT          Erable           0   \n",
              "4  139206      Jardin  PARIS 16E ARRDT         Sorbier           3   \n",
              "\n",
              "   circonferenceencm remarquable                            geo_point_2d  \n",
              "0                106         NON  48.864756348264784, 2.3053579684725705  \n",
              "1                140         NON    48.83220295634672, 2.325645809135856  \n",
              "2                 55         NON   48.89070845363805, 2.3145228803252005  \n",
              "3                 98         NON   48.83888439749845, 2.2806139896705675  \n",
              "4                 40         NON    48.87130382516166, 2.275388784027277  "
            ],
            "text/html": [
              "\n",
              "  <div id=\"df-4daa519f-a91e-4760-8b7e-95532995a2d8\">\n",
              "    <div class=\"colab-df-container\">\n",
              "      <div>\n",
              "<style scoped>\n",
              "    .dataframe tbody tr th:only-of-type {\n",
              "        vertical-align: middle;\n",
              "    }\n",
              "\n",
              "    .dataframe tbody tr th {\n",
              "        vertical-align: top;\n",
              "    }\n",
              "\n",
              "    .dataframe thead th {\n",
              "        text-align: right;\n",
              "    }\n",
              "</style>\n",
              "<table border=\"1\" class=\"dataframe\">\n",
              "  <thead>\n",
              "    <tr style=\"text-align: right;\">\n",
              "      <th></th>\n",
              "      <th>idbase</th>\n",
              "      <th>domanialite</th>\n",
              "      <th>arrondissement</th>\n",
              "      <th>libellefrancais</th>\n",
              "      <th>hauteurenm</th>\n",
              "      <th>circonferenceencm</th>\n",
              "      <th>remarquable</th>\n",
              "      <th>geo_point_2d</th>\n",
              "    </tr>\n",
              "  </thead>\n",
              "  <tbody>\n",
              "    <tr>\n",
              "      <th>0</th>\n",
              "      <td>205652</td>\n",
              "      <td>Alignement</td>\n",
              "      <td>PARIS 8E ARRDT</td>\n",
              "      <td>Marronnier</td>\n",
              "      <td>10</td>\n",
              "      <td>106</td>\n",
              "      <td>NON</td>\n",
              "      <td>48.864756348264784, 2.3053579684725705</td>\n",
              "    </tr>\n",
              "    <tr>\n",
              "      <th>1</th>\n",
              "      <td>240414</td>\n",
              "      <td>Jardin</td>\n",
              "      <td>PARIS 14E ARRDT</td>\n",
              "      <td>Orme</td>\n",
              "      <td>10</td>\n",
              "      <td>140</td>\n",
              "      <td>NON</td>\n",
              "      <td>48.83220295634672, 2.325645809135856</td>\n",
              "    </tr>\n",
              "    <tr>\n",
              "      <th>2</th>\n",
              "      <td>111500</td>\n",
              "      <td>Jardin</td>\n",
              "      <td>PARIS 17E ARRDT</td>\n",
              "      <td>Arbre à miel</td>\n",
              "      <td>5</td>\n",
              "      <td>55</td>\n",
              "      <td>NON</td>\n",
              "      <td>48.89070845363805, 2.3145228803252005</td>\n",
              "    </tr>\n",
              "    <tr>\n",
              "      <th>3</th>\n",
              "      <td>135994</td>\n",
              "      <td>Jardin</td>\n",
              "      <td>PARIS 15E ARRDT</td>\n",
              "      <td>Erable</td>\n",
              "      <td>0</td>\n",
              "      <td>98</td>\n",
              "      <td>NON</td>\n",
              "      <td>48.83888439749845, 2.2806139896705675</td>\n",
              "    </tr>\n",
              "    <tr>\n",
              "      <th>4</th>\n",
              "      <td>139206</td>\n",
              "      <td>Jardin</td>\n",
              "      <td>PARIS 16E ARRDT</td>\n",
              "      <td>Sorbier</td>\n",
              "      <td>3</td>\n",
              "      <td>40</td>\n",
              "      <td>NON</td>\n",
              "      <td>48.87130382516166, 2.275388784027277</td>\n",
              "    </tr>\n",
              "  </tbody>\n",
              "</table>\n",
              "</div>\n",
              "      <button class=\"colab-df-convert\" onclick=\"convertToInteractive('df-4daa519f-a91e-4760-8b7e-95532995a2d8')\"\n",
              "              title=\"Convert this dataframe to an interactive table.\"\n",
              "              style=\"display:none;\">\n",
              "        \n",
              "  <svg xmlns=\"http://www.w3.org/2000/svg\" height=\"24px\"viewBox=\"0 0 24 24\"\n",
              "       width=\"24px\">\n",
              "    <path d=\"M0 0h24v24H0V0z\" fill=\"none\"/>\n",
              "    <path d=\"M18.56 5.44l.94 2.06.94-2.06 2.06-.94-2.06-.94-.94-2.06-.94 2.06-2.06.94zm-11 1L8.5 8.5l.94-2.06 2.06-.94-2.06-.94L8.5 2.5l-.94 2.06-2.06.94zm10 10l.94 2.06.94-2.06 2.06-.94-2.06-.94-.94-2.06-.94 2.06-2.06.94z\"/><path d=\"M17.41 7.96l-1.37-1.37c-.4-.4-.92-.59-1.43-.59-.52 0-1.04.2-1.43.59L10.3 9.45l-7.72 7.72c-.78.78-.78 2.05 0 2.83L4 21.41c.39.39.9.59 1.41.59.51 0 1.02-.2 1.41-.59l7.78-7.78 2.81-2.81c.8-.78.8-2.07 0-2.86zM5.41 20L4 18.59l7.72-7.72 1.47 1.35L5.41 20z\"/>\n",
              "  </svg>\n",
              "      </button>\n",
              "      \n",
              "  <style>\n",
              "    .colab-df-container {\n",
              "      display:flex;\n",
              "      flex-wrap:wrap;\n",
              "      gap: 12px;\n",
              "    }\n",
              "\n",
              "    .colab-df-convert {\n",
              "      background-color: #E8F0FE;\n",
              "      border: none;\n",
              "      border-radius: 50%;\n",
              "      cursor: pointer;\n",
              "      display: none;\n",
              "      fill: #1967D2;\n",
              "      height: 32px;\n",
              "      padding: 0 0 0 0;\n",
              "      width: 32px;\n",
              "    }\n",
              "\n",
              "    .colab-df-convert:hover {\n",
              "      background-color: #E2EBFA;\n",
              "      box-shadow: 0px 1px 2px rgba(60, 64, 67, 0.3), 0px 1px 3px 1px rgba(60, 64, 67, 0.15);\n",
              "      fill: #174EA6;\n",
              "    }\n",
              "\n",
              "    [theme=dark] .colab-df-convert {\n",
              "      background-color: #3B4455;\n",
              "      fill: #D2E3FC;\n",
              "    }\n",
              "\n",
              "    [theme=dark] .colab-df-convert:hover {\n",
              "      background-color: #434B5C;\n",
              "      box-shadow: 0px 1px 3px 1px rgba(0, 0, 0, 0.15);\n",
              "      filter: drop-shadow(0px 1px 2px rgba(0, 0, 0, 0.3));\n",
              "      fill: #FFFFFF;\n",
              "    }\n",
              "  </style>\n",
              "\n",
              "      <script>\n",
              "        const buttonEl =\n",
              "          document.querySelector('#df-4daa519f-a91e-4760-8b7e-95532995a2d8 button.colab-df-convert');\n",
              "        buttonEl.style.display =\n",
              "          google.colab.kernel.accessAllowed ? 'block' : 'none';\n",
              "\n",
              "        async function convertToInteractive(key) {\n",
              "          const element = document.querySelector('#df-4daa519f-a91e-4760-8b7e-95532995a2d8');\n",
              "          const dataTable =\n",
              "            await google.colab.kernel.invokeFunction('convertToInteractive',\n",
              "                                                     [key], {});\n",
              "          if (!dataTable) return;\n",
              "\n",
              "          const docLinkHtml = 'Like what you see? Visit the ' +\n",
              "            '<a target=\"_blank\" href=https://colab.research.google.com/notebooks/data_table.ipynb>data table notebook</a>'\n",
              "            + ' to learn more about interactive tables.';\n",
              "          element.innerHTML = '';\n",
              "          dataTable['output_type'] = 'display_data';\n",
              "          await google.colab.output.renderOutput(dataTable, element);\n",
              "          const docLink = document.createElement('div');\n",
              "          docLink.innerHTML = docLinkHtml;\n",
              "          element.appendChild(docLink);\n",
              "        }\n",
              "      </script>\n",
              "    </div>\n",
              "  </div>\n",
              "  "
            ]
          },
          "metadata": {},
          "execution_count": 73
        }
      ]
    },
    {
      "cell_type": "code",
      "source": [
        "# Renommer les champs\n",
        "\n",
        "arbresok.rename(columns={'idbase': 'id','libellefrancais': 'type','hauteurenm': 'hauteur', 'circonferenceencm': 'circonference'}, inplace=True)\n",
        "arbresok.head()"
      ],
      "metadata": {
        "colab": {
          "base_uri": "https://localhost:8080/",
          "height": 296
        },
        "id": "I4Q70892IcPB",
        "outputId": "3cbb2753-cb55-4e7d-e455-8efb20bf61fb"
      },
      "execution_count": null,
      "outputs": [
        {
          "output_type": "stream",
          "name": "stderr",
          "text": [
            "/usr/local/lib/python3.9/dist-packages/pandas/core/frame.py:5039: SettingWithCopyWarning: \n",
            "A value is trying to be set on a copy of a slice from a DataFrame\n",
            "\n",
            "See the caveats in the documentation: https://pandas.pydata.org/pandas-docs/stable/user_guide/indexing.html#returning-a-view-versus-a-copy\n",
            "  return super().rename(\n"
          ]
        },
        {
          "output_type": "execute_result",
          "data": {
            "text/plain": [
              "       id domanialite   arrondissement          type  hauteur  circonference  \\\n",
              "0  205652  Alignement   PARIS 8E ARRDT    Marronnier       10            106   \n",
              "1  240414      Jardin  PARIS 14E ARRDT          Orme       10            140   \n",
              "2  111500      Jardin  PARIS 17E ARRDT  Arbre à miel        5             55   \n",
              "3  135994      Jardin  PARIS 15E ARRDT        Erable        0             98   \n",
              "4  139206      Jardin  PARIS 16E ARRDT       Sorbier        3             40   \n",
              "\n",
              "  remarquable                            geo_point_2d  \n",
              "0         NON  48.864756348264784, 2.3053579684725705  \n",
              "1         NON    48.83220295634672, 2.325645809135856  \n",
              "2         NON   48.89070845363805, 2.3145228803252005  \n",
              "3         NON   48.83888439749845, 2.2806139896705675  \n",
              "4         NON    48.87130382516166, 2.275388784027277  "
            ],
            "text/html": [
              "\n",
              "  <div id=\"df-ba15dee1-ab6b-4252-a8c7-bcab8b99b5cc\">\n",
              "    <div class=\"colab-df-container\">\n",
              "      <div>\n",
              "<style scoped>\n",
              "    .dataframe tbody tr th:only-of-type {\n",
              "        vertical-align: middle;\n",
              "    }\n",
              "\n",
              "    .dataframe tbody tr th {\n",
              "        vertical-align: top;\n",
              "    }\n",
              "\n",
              "    .dataframe thead th {\n",
              "        text-align: right;\n",
              "    }\n",
              "</style>\n",
              "<table border=\"1\" class=\"dataframe\">\n",
              "  <thead>\n",
              "    <tr style=\"text-align: right;\">\n",
              "      <th></th>\n",
              "      <th>id</th>\n",
              "      <th>domanialite</th>\n",
              "      <th>arrondissement</th>\n",
              "      <th>type</th>\n",
              "      <th>hauteur</th>\n",
              "      <th>circonference</th>\n",
              "      <th>remarquable</th>\n",
              "      <th>geo_point_2d</th>\n",
              "    </tr>\n",
              "  </thead>\n",
              "  <tbody>\n",
              "    <tr>\n",
              "      <th>0</th>\n",
              "      <td>205652</td>\n",
              "      <td>Alignement</td>\n",
              "      <td>PARIS 8E ARRDT</td>\n",
              "      <td>Marronnier</td>\n",
              "      <td>10</td>\n",
              "      <td>106</td>\n",
              "      <td>NON</td>\n",
              "      <td>48.864756348264784, 2.3053579684725705</td>\n",
              "    </tr>\n",
              "    <tr>\n",
              "      <th>1</th>\n",
              "      <td>240414</td>\n",
              "      <td>Jardin</td>\n",
              "      <td>PARIS 14E ARRDT</td>\n",
              "      <td>Orme</td>\n",
              "      <td>10</td>\n",
              "      <td>140</td>\n",
              "      <td>NON</td>\n",
              "      <td>48.83220295634672, 2.325645809135856</td>\n",
              "    </tr>\n",
              "    <tr>\n",
              "      <th>2</th>\n",
              "      <td>111500</td>\n",
              "      <td>Jardin</td>\n",
              "      <td>PARIS 17E ARRDT</td>\n",
              "      <td>Arbre à miel</td>\n",
              "      <td>5</td>\n",
              "      <td>55</td>\n",
              "      <td>NON</td>\n",
              "      <td>48.89070845363805, 2.3145228803252005</td>\n",
              "    </tr>\n",
              "    <tr>\n",
              "      <th>3</th>\n",
              "      <td>135994</td>\n",
              "      <td>Jardin</td>\n",
              "      <td>PARIS 15E ARRDT</td>\n",
              "      <td>Erable</td>\n",
              "      <td>0</td>\n",
              "      <td>98</td>\n",
              "      <td>NON</td>\n",
              "      <td>48.83888439749845, 2.2806139896705675</td>\n",
              "    </tr>\n",
              "    <tr>\n",
              "      <th>4</th>\n",
              "      <td>139206</td>\n",
              "      <td>Jardin</td>\n",
              "      <td>PARIS 16E ARRDT</td>\n",
              "      <td>Sorbier</td>\n",
              "      <td>3</td>\n",
              "      <td>40</td>\n",
              "      <td>NON</td>\n",
              "      <td>48.87130382516166, 2.275388784027277</td>\n",
              "    </tr>\n",
              "  </tbody>\n",
              "</table>\n",
              "</div>\n",
              "      <button class=\"colab-df-convert\" onclick=\"convertToInteractive('df-ba15dee1-ab6b-4252-a8c7-bcab8b99b5cc')\"\n",
              "              title=\"Convert this dataframe to an interactive table.\"\n",
              "              style=\"display:none;\">\n",
              "        \n",
              "  <svg xmlns=\"http://www.w3.org/2000/svg\" height=\"24px\"viewBox=\"0 0 24 24\"\n",
              "       width=\"24px\">\n",
              "    <path d=\"M0 0h24v24H0V0z\" fill=\"none\"/>\n",
              "    <path d=\"M18.56 5.44l.94 2.06.94-2.06 2.06-.94-2.06-.94-.94-2.06-.94 2.06-2.06.94zm-11 1L8.5 8.5l.94-2.06 2.06-.94-2.06-.94L8.5 2.5l-.94 2.06-2.06.94zm10 10l.94 2.06.94-2.06 2.06-.94-2.06-.94-.94-2.06-.94 2.06-2.06.94z\"/><path d=\"M17.41 7.96l-1.37-1.37c-.4-.4-.92-.59-1.43-.59-.52 0-1.04.2-1.43.59L10.3 9.45l-7.72 7.72c-.78.78-.78 2.05 0 2.83L4 21.41c.39.39.9.59 1.41.59.51 0 1.02-.2 1.41-.59l7.78-7.78 2.81-2.81c.8-.78.8-2.07 0-2.86zM5.41 20L4 18.59l7.72-7.72 1.47 1.35L5.41 20z\"/>\n",
              "  </svg>\n",
              "      </button>\n",
              "      \n",
              "  <style>\n",
              "    .colab-df-container {\n",
              "      display:flex;\n",
              "      flex-wrap:wrap;\n",
              "      gap: 12px;\n",
              "    }\n",
              "\n",
              "    .colab-df-convert {\n",
              "      background-color: #E8F0FE;\n",
              "      border: none;\n",
              "      border-radius: 50%;\n",
              "      cursor: pointer;\n",
              "      display: none;\n",
              "      fill: #1967D2;\n",
              "      height: 32px;\n",
              "      padding: 0 0 0 0;\n",
              "      width: 32px;\n",
              "    }\n",
              "\n",
              "    .colab-df-convert:hover {\n",
              "      background-color: #E2EBFA;\n",
              "      box-shadow: 0px 1px 2px rgba(60, 64, 67, 0.3), 0px 1px 3px 1px rgba(60, 64, 67, 0.15);\n",
              "      fill: #174EA6;\n",
              "    }\n",
              "\n",
              "    [theme=dark] .colab-df-convert {\n",
              "      background-color: #3B4455;\n",
              "      fill: #D2E3FC;\n",
              "    }\n",
              "\n",
              "    [theme=dark] .colab-df-convert:hover {\n",
              "      background-color: #434B5C;\n",
              "      box-shadow: 0px 1px 3px 1px rgba(0, 0, 0, 0.15);\n",
              "      filter: drop-shadow(0px 1px 2px rgba(0, 0, 0, 0.3));\n",
              "      fill: #FFFFFF;\n",
              "    }\n",
              "  </style>\n",
              "\n",
              "      <script>\n",
              "        const buttonEl =\n",
              "          document.querySelector('#df-ba15dee1-ab6b-4252-a8c7-bcab8b99b5cc button.colab-df-convert');\n",
              "        buttonEl.style.display =\n",
              "          google.colab.kernel.accessAllowed ? 'block' : 'none';\n",
              "\n",
              "        async function convertToInteractive(key) {\n",
              "          const element = document.querySelector('#df-ba15dee1-ab6b-4252-a8c7-bcab8b99b5cc');\n",
              "          const dataTable =\n",
              "            await google.colab.kernel.invokeFunction('convertToInteractive',\n",
              "                                                     [key], {});\n",
              "          if (!dataTable) return;\n",
              "\n",
              "          const docLinkHtml = 'Like what you see? Visit the ' +\n",
              "            '<a target=\"_blank\" href=https://colab.research.google.com/notebooks/data_table.ipynb>data table notebook</a>'\n",
              "            + ' to learn more about interactive tables.';\n",
              "          element.innerHTML = '';\n",
              "          dataTable['output_type'] = 'display_data';\n",
              "          await google.colab.output.renderOutput(dataTable, element);\n",
              "          const docLink = document.createElement('div');\n",
              "          docLink.innerHTML = docLinkHtml;\n",
              "          element.appendChild(docLink);\n",
              "        }\n",
              "      </script>\n",
              "    </div>\n",
              "  </div>\n",
              "  "
            ]
          },
          "metadata": {},
          "execution_count": 74
        }
      ]
    },
    {
      "cell_type": "code",
      "source": [
        "#Valeur maximales des hauteurs des arbres\n",
        "arbresok[\"hauteur\"].max()"
      ],
      "metadata": {
        "colab": {
          "base_uri": "https://localhost:8080/"
        },
        "id": "KnczXO8rIvdL",
        "outputId": "97af619d-e375-45cf-f8bc-6b65b1810cc5"
      },
      "execution_count": null,
      "outputs": [
        {
          "output_type": "execute_result",
          "data": {
            "text/plain": [
              "90"
            ]
          },
          "metadata": {},
          "execution_count": 75
        }
      ]
    },
    {
      "cell_type": "code",
      "source": [
        "#Valeur maximales des circonférences des arbres \n",
        "arbresok[\"circonference\"].max()"
      ],
      "metadata": {
        "colab": {
          "base_uri": "https://localhost:8080/"
        },
        "id": "Se0LZLihJEO5",
        "outputId": "06acbdb4-e162-4f29-fd08-8dbc370d611c"
      },
      "execution_count": null,
      "outputs": [
        {
          "output_type": "execute_result",
          "data": {
            "text/plain": [
              "97110"
            ]
          },
          "metadata": {},
          "execution_count": 78
        }
      ]
    },
    {
      "cell_type": "code",
      "source": [
        "#Nettoyage du dataframe\n",
        "\n",
        "arbresok = arbresok[(arbresok[\"circonference\"] <= 500)]\n",
        "arbresok = arbresok[(arbresok[\"hauteur\"] <= 30)]\n",
        "arbresok[\"id\"].size"
      ],
      "metadata": {
        "colab": {
          "base_uri": "https://localhost:8080/"
        },
        "id": "beNH3bv7JWoz",
        "outputId": "869e26b5-cca7-43ef-a185-b3cb55041c26"
      },
      "execution_count": null,
      "outputs": [
        {
          "output_type": "execute_result",
          "data": {
            "text/plain": [
              "206939"
            ]
          },
          "metadata": {},
          "execution_count": 79
        }
      ]
    },
    {
      "cell_type": "code",
      "source": [
        "#Valeur maximales des hauteurs des arbres\n",
        "arbresok[\"hauteur\"].max()"
      ],
      "metadata": {
        "colab": {
          "base_uri": "https://localhost:8080/"
        },
        "outputId": "4f3cf66d-d438-4c33-cda4-be66214f4559",
        "id": "LJZOGpSqJ69X"
      },
      "execution_count": null,
      "outputs": [
        {
          "output_type": "execute_result",
          "data": {
            "text/plain": [
              "30"
            ]
          },
          "metadata": {},
          "execution_count": 80
        }
      ]
    },
    {
      "cell_type": "code",
      "source": [
        "#Valeur maximales des circonférences des arbres \n",
        "arbresok[\"circonference\"].max()"
      ],
      "metadata": {
        "colab": {
          "base_uri": "https://localhost:8080/"
        },
        "outputId": "05436855-f5e9-4e34-8c8f-030864c884b0",
        "id": "KbS-hjFMJ9x4"
      },
      "execution_count": null,
      "outputs": [
        {
          "output_type": "execute_result",
          "data": {
            "text/plain": [
              "500"
            ]
          },
          "metadata": {},
          "execution_count": 81
        }
      ]
    },
    {
      "cell_type": "code",
      "source": [
        "#Création d'un dataframe avec les arbres remarquables\n",
        "\n",
        "arbresremarquables = arbresok[(arbresok[\"remarquable\"] == 'OUI')]\n",
        "arbresremarquables['id'].size"
      ],
      "metadata": {
        "colab": {
          "base_uri": "https://localhost:8080/"
        },
        "id": "8jDTE3gsKOrC",
        "outputId": "a8d660df-4495-4818-adbb-3d3a87897cd8"
      },
      "execution_count": null,
      "outputs": [
        {
          "output_type": "execute_result",
          "data": {
            "text/plain": [
              "152"
            ]
          },
          "metadata": {},
          "execution_count": 82
        }
      ]
    },
    {
      "cell_type": "code",
      "source": [
        "#Compter le nombre d'arbres remarquables par arrondissement de Paris\n",
        "\n",
        "arbresremarquableardt = arbresremarquables[[\"arrondissement\", \"id\"]].groupby(\"arrondissement\").count()\n",
        "arbresremarquableardt = arbresremarquableardt.sort_values(\"id\", ascending=True)\n",
        "arbresremarquableardt.plot(figsize =(10,5), kind=\"barh\", color = \"lightgreen\")\n",
        "plt.title(\"Nb d'arbres remarquables par Ardt\")\n",
        "plt.xlabel(\"Arrondissement\")\n",
        "plt.ylabel(\"Nb arbres remarquables\")\n",
        "arbresremarquableardt.head()"
      ],
      "metadata": {
        "colab": {
          "base_uri": "https://localhost:8080/",
          "height": 571
        },
        "id": "_4nVQUREK0IC",
        "outputId": "069021dc-edfa-4a9f-8d28-49923083e293"
      },
      "execution_count": null,
      "outputs": [
        {
          "output_type": "execute_result",
          "data": {
            "text/plain": [
              "                 id\n",
              "arrondissement     \n",
              "PARIS 10E ARRDT   1\n",
              "PARIS 11E ARRDT   1\n",
              "PARIS 6E ARRDT    1\n",
              "PARIS 1ER ARRDT   1\n",
              "PARIS 9E ARRDT    2"
            ],
            "text/html": [
              "\n",
              "  <div id=\"df-fb42395b-469c-4659-9a7f-71f2e3203791\">\n",
              "    <div class=\"colab-df-container\">\n",
              "      <div>\n",
              "<style scoped>\n",
              "    .dataframe tbody tr th:only-of-type {\n",
              "        vertical-align: middle;\n",
              "    }\n",
              "\n",
              "    .dataframe tbody tr th {\n",
              "        vertical-align: top;\n",
              "    }\n",
              "\n",
              "    .dataframe thead th {\n",
              "        text-align: right;\n",
              "    }\n",
              "</style>\n",
              "<table border=\"1\" class=\"dataframe\">\n",
              "  <thead>\n",
              "    <tr style=\"text-align: right;\">\n",
              "      <th></th>\n",
              "      <th>id</th>\n",
              "    </tr>\n",
              "    <tr>\n",
              "      <th>arrondissement</th>\n",
              "      <th></th>\n",
              "    </tr>\n",
              "  </thead>\n",
              "  <tbody>\n",
              "    <tr>\n",
              "      <th>PARIS 10E ARRDT</th>\n",
              "      <td>1</td>\n",
              "    </tr>\n",
              "    <tr>\n",
              "      <th>PARIS 11E ARRDT</th>\n",
              "      <td>1</td>\n",
              "    </tr>\n",
              "    <tr>\n",
              "      <th>PARIS 6E ARRDT</th>\n",
              "      <td>1</td>\n",
              "    </tr>\n",
              "    <tr>\n",
              "      <th>PARIS 1ER ARRDT</th>\n",
              "      <td>1</td>\n",
              "    </tr>\n",
              "    <tr>\n",
              "      <th>PARIS 9E ARRDT</th>\n",
              "      <td>2</td>\n",
              "    </tr>\n",
              "  </tbody>\n",
              "</table>\n",
              "</div>\n",
              "      <button class=\"colab-df-convert\" onclick=\"convertToInteractive('df-fb42395b-469c-4659-9a7f-71f2e3203791')\"\n",
              "              title=\"Convert this dataframe to an interactive table.\"\n",
              "              style=\"display:none;\">\n",
              "        \n",
              "  <svg xmlns=\"http://www.w3.org/2000/svg\" height=\"24px\"viewBox=\"0 0 24 24\"\n",
              "       width=\"24px\">\n",
              "    <path d=\"M0 0h24v24H0V0z\" fill=\"none\"/>\n",
              "    <path d=\"M18.56 5.44l.94 2.06.94-2.06 2.06-.94-2.06-.94-.94-2.06-.94 2.06-2.06.94zm-11 1L8.5 8.5l.94-2.06 2.06-.94-2.06-.94L8.5 2.5l-.94 2.06-2.06.94zm10 10l.94 2.06.94-2.06 2.06-.94-2.06-.94-.94-2.06-.94 2.06-2.06.94z\"/><path d=\"M17.41 7.96l-1.37-1.37c-.4-.4-.92-.59-1.43-.59-.52 0-1.04.2-1.43.59L10.3 9.45l-7.72 7.72c-.78.78-.78 2.05 0 2.83L4 21.41c.39.39.9.59 1.41.59.51 0 1.02-.2 1.41-.59l7.78-7.78 2.81-2.81c.8-.78.8-2.07 0-2.86zM5.41 20L4 18.59l7.72-7.72 1.47 1.35L5.41 20z\"/>\n",
              "  </svg>\n",
              "      </button>\n",
              "      \n",
              "  <style>\n",
              "    .colab-df-container {\n",
              "      display:flex;\n",
              "      flex-wrap:wrap;\n",
              "      gap: 12px;\n",
              "    }\n",
              "\n",
              "    .colab-df-convert {\n",
              "      background-color: #E8F0FE;\n",
              "      border: none;\n",
              "      border-radius: 50%;\n",
              "      cursor: pointer;\n",
              "      display: none;\n",
              "      fill: #1967D2;\n",
              "      height: 32px;\n",
              "      padding: 0 0 0 0;\n",
              "      width: 32px;\n",
              "    }\n",
              "\n",
              "    .colab-df-convert:hover {\n",
              "      background-color: #E2EBFA;\n",
              "      box-shadow: 0px 1px 2px rgba(60, 64, 67, 0.3), 0px 1px 3px 1px rgba(60, 64, 67, 0.15);\n",
              "      fill: #174EA6;\n",
              "    }\n",
              "\n",
              "    [theme=dark] .colab-df-convert {\n",
              "      background-color: #3B4455;\n",
              "      fill: #D2E3FC;\n",
              "    }\n",
              "\n",
              "    [theme=dark] .colab-df-convert:hover {\n",
              "      background-color: #434B5C;\n",
              "      box-shadow: 0px 1px 3px 1px rgba(0, 0, 0, 0.15);\n",
              "      filter: drop-shadow(0px 1px 2px rgba(0, 0, 0, 0.3));\n",
              "      fill: #FFFFFF;\n",
              "    }\n",
              "  </style>\n",
              "\n",
              "      <script>\n",
              "        const buttonEl =\n",
              "          document.querySelector('#df-fb42395b-469c-4659-9a7f-71f2e3203791 button.colab-df-convert');\n",
              "        buttonEl.style.display =\n",
              "          google.colab.kernel.accessAllowed ? 'block' : 'none';\n",
              "\n",
              "        async function convertToInteractive(key) {\n",
              "          const element = document.querySelector('#df-fb42395b-469c-4659-9a7f-71f2e3203791');\n",
              "          const dataTable =\n",
              "            await google.colab.kernel.invokeFunction('convertToInteractive',\n",
              "                                                     [key], {});\n",
              "          if (!dataTable) return;\n",
              "\n",
              "          const docLinkHtml = 'Like what you see? Visit the ' +\n",
              "            '<a target=\"_blank\" href=https://colab.research.google.com/notebooks/data_table.ipynb>data table notebook</a>'\n",
              "            + ' to learn more about interactive tables.';\n",
              "          element.innerHTML = '';\n",
              "          dataTable['output_type'] = 'display_data';\n",
              "          await google.colab.output.renderOutput(dataTable, element);\n",
              "          const docLink = document.createElement('div');\n",
              "          docLink.innerHTML = docLinkHtml;\n",
              "          element.appendChild(docLink);\n",
              "        }\n",
              "      </script>\n",
              "    </div>\n",
              "  </div>\n",
              "  "
            ]
          },
          "metadata": {},
          "execution_count": 89
        },
        {
          "output_type": "display_data",
          "data": {
            "text/plain": [
              "<Figure size 720x360 with 1 Axes>"
            ],
            "image/png": "[encoded data removed]"
          },
          "metadata": {
            "needs_background": "light"
          }
        }
      ]
    },
    {
      "cell_type": "code",
      "source": [
        "#Liste des varaibles du type d'arbres\n",
        "\n",
        "arbresok[('type')].unique()"
      ],
      "metadata": {
        "id": "kDqvZ95IMDtu"
      },
      "execution_count": null,
      "outputs": []
    },
    {
      "cell_type": "code",
      "source": [
        "#Calcul de la hauteur moyenne des arbres par arrondissement\n",
        "\n",
        "arbreshauteurardt = arbresok[[\"arrondissement\", \"hauteur\"]].groupby(\"arrondissement\").mean()\n",
        "arbreshauteurardt = arbreshauteurardt.sort_values(\"hauteur\", ascending=True)\n",
        "arbreshauteurardt.plot(figsize =(10,5), kind=\"barh\", color = \"lightblue\")\n",
        "plt.title(\"Moyenne des hauteurs par Ardt\")\n",
        "plt.xlabel(\"Arrondissement\")\n",
        "plt.ylabel(\"Moyenne des hauteurs\")\n",
        "arbreshauteurardt.head()"
      ],
      "metadata": {
        "colab": {
          "base_uri": "https://localhost:8080/",
          "height": 571
        },
        "id": "bXcYHm8YMT-T",
        "outputId": "45838574-7e46-442d-839e-d8308afea4b2"
      },
      "execution_count": null,
      "outputs": [
        {
          "output_type": "execute_result",
          "data": {
            "text/plain": [
              "                    hauteur\n",
              "arrondissement             \n",
              "HAUTS-DE-SEINE     2.280629\n",
              "SEINE-SAINT-DENIS  5.020636\n",
              "PARIS 15E ARRDT    6.514671\n",
              "VAL-DE-MARNE       7.100437\n",
              "PARIS 1ER ARRDT    8.235505"
            ],
            "text/html": [
              "\n",
              "  <div id=\"df-24a58ef1-8d9d-4072-9880-b57217a458ab\">\n",
              "    <div class=\"colab-df-container\">\n",
              "      <div>\n",
              "<style scoped>\n",
              "    .dataframe tbody tr th:only-of-type {\n",
              "        vertical-align: middle;\n",
              "    }\n",
              "\n",
              "    .dataframe tbody tr th {\n",
              "        vertical-align: top;\n",
              "    }\n",
              "\n",
              "    .dataframe thead th {\n",
              "        text-align: right;\n",
              "    }\n",
              "</style>\n",
              "<table border=\"1\" class=\"dataframe\">\n",
              "  <thead>\n",
              "    <tr style=\"text-align: right;\">\n",
              "      <th></th>\n",
              "      <th>hauteur</th>\n",
              "    </tr>\n",
              "    <tr>\n",
              "      <th>arrondissement</th>\n",
              "      <th></th>\n",
              "    </tr>\n",
              "  </thead>\n",
              "  <tbody>\n",
              "    <tr>\n",
              "      <th>HAUTS-DE-SEINE</th>\n",
              "      <td>2.280629</td>\n",
              "    </tr>\n",
              "    <tr>\n",
              "      <th>SEINE-SAINT-DENIS</th>\n",
              "      <td>5.020636</td>\n",
              "    </tr>\n",
              "    <tr>\n",
              "      <th>PARIS 15E ARRDT</th>\n",
              "      <td>6.514671</td>\n",
              "    </tr>\n",
              "    <tr>\n",
              "      <th>VAL-DE-MARNE</th>\n",
              "      <td>7.100437</td>\n",
              "    </tr>\n",
              "    <tr>\n",
              "      <th>PARIS 1ER ARRDT</th>\n",
              "      <td>8.235505</td>\n",
              "    </tr>\n",
              "  </tbody>\n",
              "</table>\n",
              "</div>\n",
              "      <button class=\"colab-df-convert\" onclick=\"convertToInteractive('df-24a58ef1-8d9d-4072-9880-b57217a458ab')\"\n",
              "              title=\"Convert this dataframe to an interactive table.\"\n",
              "              style=\"display:none;\">\n",
              "        \n",
              "  <svg xmlns=\"http://www.w3.org/2000/svg\" height=\"24px\"viewBox=\"0 0 24 24\"\n",
              "       width=\"24px\">\n",
              "    <path d=\"M0 0h24v24H0V0z\" fill=\"none\"/>\n",
              "    <path d=\"M18.56 5.44l.94 2.06.94-2.06 2.06-.94-2.06-.94-.94-2.06-.94 2.06-2.06.94zm-11 1L8.5 8.5l.94-2.06 2.06-.94-2.06-.94L8.5 2.5l-.94 2.06-2.06.94zm10 10l.94 2.06.94-2.06 2.06-.94-2.06-.94-.94-2.06-.94 2.06-2.06.94z\"/><path d=\"M17.41 7.96l-1.37-1.37c-.4-.4-.92-.59-1.43-.59-.52 0-1.04.2-1.43.59L10.3 9.45l-7.72 7.72c-.78.78-.78 2.05 0 2.83L4 21.41c.39.39.9.59 1.41.59.51 0 1.02-.2 1.41-.59l7.78-7.78 2.81-2.81c.8-.78.8-2.07 0-2.86zM5.41 20L4 18.59l7.72-7.72 1.47 1.35L5.41 20z\"/>\n",
              "  </svg>\n",
              "      </button>\n",
              "      \n",
              "  <style>\n",
              "    .colab-df-container {\n",
              "      display:flex;\n",
              "      flex-wrap:wrap;\n",
              "      gap: 12px;\n",
              "    }\n",
              "\n",
              "    .colab-df-convert {\n",
              "      background-color: #E8F0FE;\n",
              "      border: none;\n",
              "      border-radius: 50%;\n",
              "      cursor: pointer;\n",
              "      display: none;\n",
              "      fill: #1967D2;\n",
              "      height: 32px;\n",
              "      padding: 0 0 0 0;\n",
              "      width: 32px;\n",
              "    }\n",
              "\n",
              "    .colab-df-convert:hover {\n",
              "      background-color: #E2EBFA;\n",
              "      box-shadow: 0px 1px 2px rgba(60, 64, 67, 0.3), 0px 1px 3px 1px rgba(60, 64, 67, 0.15);\n",
              "      fill: #174EA6;\n",
              "    }\n",
              "\n",
              "    [theme=dark] .colab-df-convert {\n",
              "      background-color: #3B4455;\n",
              "      fill: #D2E3FC;\n",
              "    }\n",
              "\n",
              "    [theme=dark] .colab-df-convert:hover {\n",
              "      background-color: #434B5C;\n",
              "      box-shadow: 0px 1px 3px 1px rgba(0, 0, 0, 0.15);\n",
              "      filter: drop-shadow(0px 1px 2px rgba(0, 0, 0, 0.3));\n",
              "      fill: #FFFFFF;\n",
              "    }\n",
              "  </style>\n",
              "\n",
              "      <script>\n",
              "        const buttonEl =\n",
              "          document.querySelector('#df-24a58ef1-8d9d-4072-9880-b57217a458ab button.colab-df-convert');\n",
              "        buttonEl.style.display =\n",
              "          google.colab.kernel.accessAllowed ? 'block' : 'none';\n",
              "\n",
              "        async function convertToInteractive(key) {\n",
              "          const element = document.querySelector('#df-24a58ef1-8d9d-4072-9880-b57217a458ab');\n",
              "          const dataTable =\n",
              "            await google.colab.kernel.invokeFunction('convertToInteractive',\n",
              "                                                     [key], {});\n",
              "          if (!dataTable) return;\n",
              "\n",
              "          const docLinkHtml = 'Like what you see? Visit the ' +\n",
              "            '<a target=\"_blank\" href=https://colab.research.google.com/notebooks/data_table.ipynb>data table notebook</a>'\n",
              "            + ' to learn more about interactive tables.';\n",
              "          element.innerHTML = '';\n",
              "          dataTable['output_type'] = 'display_data';\n",
              "          await google.colab.output.renderOutput(dataTable, element);\n",
              "          const docLink = document.createElement('div');\n",
              "          docLink.innerHTML = docLinkHtml;\n",
              "          element.appendChild(docLink);\n",
              "        }\n",
              "      </script>\n",
              "    </div>\n",
              "  </div>\n",
              "  "
            ]
          },
          "metadata": {},
          "execution_count": 91
        },
        {
          "output_type": "display_data",
          "data": {
            "text/plain": [
              "<Figure size 720x360 with 1 Axes>"
            ],
            "image/png": "[encoded data removed]"
          },
          "metadata": {
            "needs_background": "light"
          }
        }
      ]
    },
    {
      "cell_type": "code",
      "source": [
        "#Calcul de la circonférence moyenne des arbres par arrondissement\n",
        "\n",
        "arbrescirconfardt = arbresok[[\"arrondissement\", \"circonference\"]].groupby(\"arrondissement\").mean()\n",
        "arbrescirconfardt = arbrescirconfardt.sort_values(\"circonference\", ascending=True)\n",
        "arbrescirconfardt.plot(figsize =(10,5), kind=\"bar\", color = \"lightblue\")\n",
        "plt.title(\"Moyenne des circonférence par Ardt\")\n",
        "plt.xlabel(\"Arrondissement\")\n",
        "plt.ylabel(\"Moyenne des circonférences\")\n",
        "arbrescirconfardt.head()"
      ],
      "metadata": {
        "colab": {
          "base_uri": "https://localhost:8080/",
          "height": 662
        },
        "outputId": "3a691be8-ecc4-49ca-b3aa-68e9726771a2",
        "id": "aPCD768MM09a"
      },
      "execution_count": null,
      "outputs": [
        {
          "output_type": "execute_result",
          "data": {
            "text/plain": [
              "                   circonference\n",
              "arrondissement                  \n",
              "HAUTS-DE-SEINE         19.756088\n",
              "SEINE-SAINT-DENIS      55.257749\n",
              "VAL-DE-MARNE           65.752547\n",
              "PARIS 15E ARRDT        68.077857\n",
              "PARIS 9E ARRDT         72.750183"
            ],
            "text/html": [
              "\n",
              "  <div id=\"df-979d49e0-f99b-4c0c-95b2-be09ed9d8d68\">\n",
              "    <div class=\"colab-df-container\">\n",
              "      <div>\n",
              "<style scoped>\n",
              "    .dataframe tbody tr th:only-of-type {\n",
              "        vertical-align: middle;\n",
              "    }\n",
              "\n",
              "    .dataframe tbody tr th {\n",
              "        vertical-align: top;\n",
              "    }\n",
              "\n",
              "    .dataframe thead th {\n",
              "        text-align: right;\n",
              "    }\n",
              "</style>\n",
              "<table border=\"1\" class=\"dataframe\">\n",
              "  <thead>\n",
              "    <tr style=\"text-align: right;\">\n",
              "      <th></th>\n",
              "      <th>circonference</th>\n",
              "    </tr>\n",
              "    <tr>\n",
              "      <th>arrondissement</th>\n",
              "      <th></th>\n",
              "    </tr>\n",
              "  </thead>\n",
              "  <tbody>\n",
              "    <tr>\n",
              "      <th>HAUTS-DE-SEINE</th>\n",
              "      <td>19.756088</td>\n",
              "    </tr>\n",
              "    <tr>\n",
              "      <th>SEINE-SAINT-DENIS</th>\n",
              "      <td>55.257749</td>\n",
              "    </tr>\n",
              "    <tr>\n",
              "      <th>VAL-DE-MARNE</th>\n",
              "      <td>65.752547</td>\n",
              "    </tr>\n",
              "    <tr>\n",
              "      <th>PARIS 15E ARRDT</th>\n",
              "      <td>68.077857</td>\n",
              "    </tr>\n",
              "    <tr>\n",
              "      <th>PARIS 9E ARRDT</th>\n",
              "      <td>72.750183</td>\n",
              "    </tr>\n",
              "  </tbody>\n",
              "</table>\n",
              "</div>\n",
              "      <button class=\"colab-df-convert\" onclick=\"convertToInteractive('df-979d49e0-f99b-4c0c-95b2-be09ed9d8d68')\"\n",
              "              title=\"Convert this dataframe to an interactive table.\"\n",
              "              style=\"display:none;\">\n",
              "        \n",
              "  <svg xmlns=\"http://www.w3.org/2000/svg\" height=\"24px\"viewBox=\"0 0 24 24\"\n",
              "       width=\"24px\">\n",
              "    <path d=\"M0 0h24v24H0V0z\" fill=\"none\"/>\n",
              "    <path d=\"M18.56 5.44l.94 2.06.94-2.06 2.06-.94-2.06-.94-.94-2.06-.94 2.06-2.06.94zm-11 1L8.5 8.5l.94-2.06 2.06-.94-2.06-.94L8.5 2.5l-.94 2.06-2.06.94zm10 10l.94 2.06.94-2.06 2.06-.94-2.06-.94-.94-2.06-.94 2.06-2.06.94z\"/><path d=\"M17.41 7.96l-1.37-1.37c-.4-.4-.92-.59-1.43-.59-.52 0-1.04.2-1.43.59L10.3 9.45l-7.72 7.72c-.78.78-.78 2.05 0 2.83L4 21.41c.39.39.9.59 1.41.59.51 0 1.02-.2 1.41-.59l7.78-7.78 2.81-2.81c.8-.78.8-2.07 0-2.86zM5.41 20L4 18.59l7.72-7.72 1.47 1.35L5.41 20z\"/>\n",
              "  </svg>\n",
              "      </button>\n",
              "      \n",
              "  <style>\n",
              "    .colab-df-container {\n",
              "      display:flex;\n",
              "      flex-wrap:wrap;\n",
              "      gap: 12px;\n",
              "    }\n",
              "\n",
              "    .colab-df-convert {\n",
              "      background-color: #E8F0FE;\n",
              "      border: none;\n",
              "      border-radius: 50%;\n",
              "      cursor: pointer;\n",
              "      display: none;\n",
              "      fill: #1967D2;\n",
              "      height: 32px;\n",
              "      padding: 0 0 0 0;\n",
              "      width: 32px;\n",
              "    }\n",
              "\n",
              "    .colab-df-convert:hover {\n",
              "      background-color: #E2EBFA;\n",
              "      box-shadow: 0px 1px 2px rgba(60, 64, 67, 0.3), 0px 1px 3px 1px rgba(60, 64, 67, 0.15);\n",
              "      fill: #174EA6;\n",
              "    }\n",
              "\n",
              "    [theme=dark] .colab-df-convert {\n",
              "      background-color: #3B4455;\n",
              "      fill: #D2E3FC;\n",
              "    }\n",
              "\n",
              "    [theme=dark] .colab-df-convert:hover {\n",
              "      background-color: #434B5C;\n",
              "      box-shadow: 0px 1px 3px 1px rgba(0, 0, 0, 0.15);\n",
              "      filter: drop-shadow(0px 1px 2px rgba(0, 0, 0, 0.3));\n",
              "      fill: #FFFFFF;\n",
              "    }\n",
              "  </style>\n",
              "\n",
              "      <script>\n",
              "        const buttonEl =\n",
              "          document.querySelector('#df-979d49e0-f99b-4c0c-95b2-be09ed9d8d68 button.colab-df-convert');\n",
              "        buttonEl.style.display =\n",
              "          google.colab.kernel.accessAllowed ? 'block' : 'none';\n",
              "\n",
              "        async function convertToInteractive(key) {\n",
              "          const element = document.querySelector('#df-979d49e0-f99b-4c0c-95b2-be09ed9d8d68');\n",
              "          const dataTable =\n",
              "            await google.colab.kernel.invokeFunction('convertToInteractive',\n",
              "                                                     [key], {});\n",
              "          if (!dataTable) return;\n",
              "\n",
              "          const docLinkHtml = 'Like what you see? Visit the ' +\n",
              "            '<a target=\"_blank\" href=https://colab.research.google.com/notebooks/data_table.ipynb>data table notebook</a>'\n",
              "            + ' to learn more about interactive tables.';\n",
              "          element.innerHTML = '';\n",
              "          dataTable['output_type'] = 'display_data';\n",
              "          await google.colab.output.renderOutput(dataTable, element);\n",
              "          const docLink = document.createElement('div');\n",
              "          docLink.innerHTML = docLinkHtml;\n",
              "          element.appendChild(docLink);\n",
              "        }\n",
              "      </script>\n",
              "    </div>\n",
              "  </div>\n",
              "  "
            ]
          },
          "metadata": {},
          "execution_count": 99
        },
        {
          "output_type": "display_data",
          "data": {
            "text/plain": [
              "<Figure size 720x360 with 1 Axes>"
            ],
            "image/png": "[encoded data removed]"
          },
          "metadata": {
            "needs_background": "light"
          }
        }
      ]
    },
    {
      "cell_type": "code",
      "source": [
        "#Hauteur moyenne par domanialité\n",
        "\n",
        "arbreshauteurdom = arbresok[[\"domanialite\", \"hauteur\"]].groupby(\"domanialite\").mean()\n",
        "arbreshauteurdom = arbreshauteurdom.sort_values(\"hauteur\", ascending=True)\n",
        "arbreshauteurdom.plot(figsize =(10,5), kind=\"bar\", color = \"lightblue\")\n",
        "plt.title(\"Moyenne des hauteurs par domanialite\")\n",
        "plt.xlabel(\"Domanialite\")\n",
        "plt.ylabel(\"Moyenne des hauteurs\")"
      ],
      "metadata": {
        "colab": {
          "base_uri": "https://localhost:8080/",
          "height": 431
        },
        "outputId": "cdd83aee-f2f9-4e45-f5a6-d226072aa0d4",
        "id": "5n-2tCDUNRcf"
      },
      "execution_count": null,
      "outputs": [
        {
          "output_type": "execute_result",
          "data": {
            "text/plain": [
              "Text(0, 0.5, 'Moyenne des hauteurs')"
            ]
          },
          "metadata": {},
          "execution_count": 100
        },
        {
          "output_type": "display_data",
          "data": {
            "text/plain": [
              "<Figure size 720x360 with 1 Axes>"
            ],
            "image/png": "[encoded data removed]"
          },
          "metadata": {
            "needs_background": "light"
          }
        }
      ]
    },
    {
      "cell_type": "code",
      "source": [
        "#Hauteur moyenne par type\n",
        "\n",
        "arbreshauteurtype = arbresok[[\"type\", \"hauteur\"]].groupby(\"type\").mean()\n",
        "arbreshauteurtype = arbreshauteurtype.sort_values(\"hauteur\", ascending=True)\n",
        "arbreshauteurtype.plot(figsize =(30,5), kind=\"bar\", color = \"lightblue\", width =0.8)\n",
        "plt.title(\"Moyenne des hauteurs par type\")\n",
        "plt.xlabel(\"Type\")\n",
        "plt.ylabel(\"Moyenne des hauteurs\")"
      ],
      "metadata": {
        "colab": {
          "base_uri": "https://localhost:8080/",
          "height": 516
        },
        "outputId": "3106d498-8373-460e-ac33-34be3a853cfc",
        "id": "lbf2xzTLN82t"
      },
      "execution_count": null,
      "outputs": [
        {
          "output_type": "execute_result",
          "data": {
            "text/plain": [
              "Text(0, 0.5, 'Moyenne des hauteurs')"
            ]
          },
          "metadata": {},
          "execution_count": 98
        },
        {
          "output_type": "display_data",
          "data": {
            "text/plain": [
              "<Figure size 2160x360 with 1 Axes>"
            ],
            "image/png": "[encoded data removed]"
          },
          "metadata": {
            "needs_background": "light"
          }
        }
      ]
    },
    {
      "cell_type": "code",
      "source": [
        "#Nuage de points rapport entre hauteur et circonférence\n",
        "arbresok.plot(figsize =(15,5), kind=\"scatter\", x=\"hauteur\", y= \"circonference\", c='hauteur', cmap='viridis')"
      ],
      "metadata": {
        "colab": {
          "base_uri": "https://localhost:8080/",
          "height": 331
        },
        "id": "-lyv42_IO0af",
        "outputId": "a7cf1560-a501-44de-c0f7-190b3bf5297f"
      },
      "execution_count": null,
      "outputs": [
        {
          "output_type": "execute_result",
          "data": {
            "text/plain": [
              "<AxesSubplot:xlabel='hauteur', ylabel='circonference'>"
            ]
          },
          "metadata": {},
          "execution_count": 119
        },
        {
          "output_type": "display_data",
          "data": {
            "text/plain": [
              "<Figure size 1080x360 with 2 Axes>"
            ],
            "image/png": "[encoded data removed]"
          },
          "metadata": {
            "needs_background": "light"
          }
        }
      ]
    },
    {
      "cell_type": "code",
      "source": [
        "#Import de la librarie pour la treemap\n",
        "!pip install squarify\n",
        "import squarify"
      ],
      "metadata": {
        "colab": {
          "base_uri": "https://localhost:8080/"
        },
        "id": "CnYzeASqTtzv",
        "outputId": "d8bec8b7-3256-443c-d264-bd5451158424"
      },
      "execution_count": null,
      "outputs": [
        {
          "output_type": "stream",
          "name": "stdout",
          "text": [
            "Looking in indexes: https://pypi.org/simple, https://us-python.pkg.dev/colab-wheels/public/simple/\n",
            "Requirement already satisfied: squarify in /usr/local/lib/python3.9/dist-packages (0.4.3)\n"
          ]
        }
      ]
    },
    {
      "cell_type": "code",
      "source": [
        "#Treemap des hauteurs par arrondissmeent\n",
        "arbresardt = arbresok[[\"arrondissement\", \"id\"]].groupby(\"arrondissement\").count()\n",
        "\n",
        "squarify.plot(sizes=arbresardt['id'], label=arbresok['arrondissement'], alpha=.8 )\n",
        "plt.axis('off')\n",
        "plt.show()"
      ],
      "metadata": {
        "colab": {
          "base_uri": "https://localhost:8080/",
          "height": 248
        },
        "id": "6ffxvEehT5y-",
        "outputId": "72824868-dd51-46e7-fbdd-39c7f7e64246"
      },
      "execution_count": null,
      "outputs": [
        {
          "output_type": "display_data",
          "data": {
            "text/plain": [
              "<Figure size 432x288 with 1 Axes>"
            ],
            "image/png": "[encoded data removed]"
          },
          "metadata": {
            "needs_background": "light"
          }
        }
      ]
    }
  ]
}